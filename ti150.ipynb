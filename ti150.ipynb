{
 "cells": [
  {
   "cell_type": "code",
   "execution_count": null,
   "metadata": {
    "vscode": {
     "languageId": "javascript"
    }
   },
   "outputs": [],
   "source": [
    "function hIndex(citations: number[]): number {\n",
    "    citations.sort((a, b) => b - a);\n",
    "    let h = 0;\n",
    "    while (h < citations.length && h < citations[h]) {\n",
    "        h++;\n",
    "    }\n",
    "    return h;\n",
    "}"
   ]
  },
  {
   "cell_type": "code",
   "execution_count": null,
   "metadata": {
    "vscode": {
     "languageId": "javascript"
    }
   },
   "outputs": [],
   "source": [
    "class RandomizedSet {\n",
    "    private numMap: Map<number, number>;\n",
    "    private numList: number[];\n",
    "\n",
    "    constructor() {\n",
    "        this.numMap = new Map();\n",
    "        this.numList = [];\n",
    "    }\n",
    "\n",
    "    insert(val: number): boolean {\n",
    "        if (!this.numMap.has(val)) {\n",
    "            this.numMap.set(val, this.numList.length);\n",
    "            this.numList.push(val);\n",
    "            return true;\n",
    "        }\n",
    "        return false;\n",
    "    }\n",
    "\n",
    "    remove(val: number): boolean {\n",
    "        if (this.numMap.has(val)) {\n",
    "            let lastElement = this.numList[this.numList.length - 1];\n",
    "            let idx = this.numMap.get(val) as number;\n",
    "            // Move the last element to the index where we delete an element\n",
    "            this.numList[idx] = lastElement;\n",
    "            this.numMap.set(lastElement, idx);\n",
    "            // Remove the last element\n",
    "            this.numList.length--;\n",
    "            this.numMap.delete(val);\n",
    "            return true;\n",
    "        }\n",
    "        return false;\n",
    "    }\n",
    "\n",
    "    getRandom(): number {\n",
    "        let randomIndex = Math.floor(Math.random() * this.numList.length);\n",
    "        return this.numList[randomIndex];\n",
    "    }\n",
    "}"
   ]
  },
  {
   "cell_type": "code",
   "execution_count": null,
   "metadata": {
    "vscode": {
     "languageId": "javascript"
    }
   },
   "outputs": [],
   "source": []
  }
 ],
 "metadata": {
  "kernelspec": {
   "display_name": "Python 3",
   "language": "python",
   "name": "python3"
  },
  "language_info": {
   "name": "python",
   "version": "3.6.6"
  },
  "orig_nbformat": 4,
  "vscode": {
   "interpreter": {
    "hash": "949777d72b0d2535278d3dc13498b2535136f6dfe0678499012e853ee9abcab1"
   }
  }
 },
 "nbformat": 4,
 "nbformat_minor": 2
}

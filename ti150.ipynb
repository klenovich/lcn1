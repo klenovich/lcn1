{
 "cells": [
  {
   "cell_type": "code",
   "execution_count": null,
   "metadata": {
    "vscode": {
     "languageId": "javascript"
    }
   },
   "outputs": [],
   "source": [
    "function hIndex(citations: number[]): number {\n",
    "    citations.sort((a, b) => b - a);\n",
    "    let h = 0;\n",
    "    while (h < citations.length && h < citations[h]) {\n",
    "        h++;\n",
    "    }\n",
    "    return h;\n",
    "}"
   ]
  },
  {
   "cell_type": "code",
   "execution_count": null,
   "metadata": {
    "vscode": {
     "languageId": "javascript"
    }
   },
   "outputs": [],
   "source": [
    "class RandomizedSet {\n",
    "    private numMap: Map<number, number>;\n",
    "    private numList: number[];\n",
    "\n",
    "    constructor() {\n",
    "        this.numMap = new Map();\n",
    "        this.numList = [];\n",
    "    }\n",
    "\n",
    "    insert(val: number): boolean {\n",
    "        if (!this.numMap.has(val)) {\n",
    "            this.numMap.set(val, this.numList.length);\n",
    "            this.numList.push(val);\n",
    "            return true;\n",
    "        }\n",
    "        return false;\n",
    "    }\n",
    "\n",
    "    remove(val: number): boolean {\n",
    "        if (this.numMap.has(val)) {\n",
    "            let lastElement = this.numList[this.numList.length - 1];\n",
    "            let idx = this.numMap.get(val) as number;\n",
    "            // Move the last element to the index where we delete an element\n",
    "            this.numList[idx] = lastElement;\n",
    "            this.numMap.set(lastElement, idx);\n",
    "            // Remove the last element\n",
    "            this.numList.length--;\n",
    "            this.numMap.delete(val);\n",
    "            return true;\n",
    "        }\n",
    "        return false;\n",
    "    }\n",
    "\n",
    "    getRandom(): number {\n",
    "        let randomIndex = Math.floor(Math.random() * this.numList.length);\n",
    "        return this.numList[randomIndex];\n",
    "    }\n",
    "}"
   ]
  },
  {
   "cell_type": "code",
   "execution_count": null,
   "metadata": {
    "vscode": {
     "languageId": "javascript"
    }
   },
   "outputs": [],
   "source": [
    "function productExceptSelf(nums: number[]): number[] {\n",
    "    let length = nums.length;\n",
    "\n",
    "    let answer: number[] = [];\n",
    "    answer[0] = 1;\n",
    "\n",
    "    // Calculate left product for each element\n",
    "    for(let i = 1; i < length; i++) {\n",
    "        answer[i] = nums[i - 1] * answer[i - 1];\n",
    "    }\n",
    "\n",
    "    let R = 1;\n",
    "    // Calculate the right product for each element and multiply it with the corresponding left product\n",
    "    for(let i = length - 1; i >= 0; i--) {\n",
    "        answer[i] = answer[i] * R;\n",
    "        R *= nums[i];\n",
    "    }\n",
    "\n",
    "    return answer;\n",
    "}"
   ]
  },
  {
   "cell_type": "code",
   "execution_count": null,
   "metadata": {
    "vscode": {
     "languageId": "javascript"
    }
   },
   "outputs": [],
   "source": [
    "function canCompleteCircuit(gas: number[], cost: number[]): number {\n",
    "    let totalGas = 0, totalCost = 0, tank = 0, start = 0, minGas = 0;\n",
    "\n",
    "    for(let i = 0; i < gas.length; i++){\n",
    "        totalGas += gas[i];\n",
    "        totalCost += cost[i];\n",
    "        tank += gas[i] - cost[i];\n",
    "        // Move the starting point index forward\n",
    "        if(tank < minGas) {\n",
    "            minGas = tank;\n",
    "            start = i + 1;\n",
    "        }\n",
    "    }\n",
    "\n",
    "    // If total gas is less than total cost, return -1 indicating no solution exists\n",
    "    if(totalGas < totalCost) return -1;\n",
    "\n",
    "    return start % gas.length;\n",
    "}"
   ]
  },
  {
   "cell_type": "code",
   "execution_count": null,
   "metadata": {
    "vscode": {
     "languageId": "javascript"
    }
   },
   "outputs": [],
   "source": [
    "function candy(ratings: number[]): number {\n",
    "    const n = ratings.length;\n",
    "   const candies = new Array(n).fill(1);\n",
    "\n",
    "   for (let i = 1; i < n; i++) {\n",
    "       if (ratings[i] > ratings[i - 1]) {\n",
    "           candies[i] = candies[i - 1] + 1;\n",
    "       }\n",
    "   }\n",
    "\n",
    "   for (let i = n - 2; i >= 0; i--) {\n",
    "       if (ratings[i] > ratings[i + 1]) {\n",
    "           candies[i] = Math.max(candies[i], candies[i + 1] + 1);\n",
    "       }\n",
    "   }\n",
    "\n",
    "   return candies.reduce((a, b) => a + b, 0);\n",
    "};"
   ]
  },
  {
   "cell_type": "code",
   "execution_count": null,
   "metadata": {
    "vscode": {
     "languageId": "javascript"
    }
   },
   "outputs": [],
   "source": [
    "function trap(height: number[]): number {\n",
    "    if(height.length === 0) return 0;\n",
    "\n",
    "    const n = height.length;\n",
    "    let left = 0;\n",
    "    let right = n - 1;\n",
    "    let maxLeft = height[0];\n",
    "    let maxRight = height[n - 1];\n",
    "    let ans = 0;\n",
    "\n",
    "    while(left <= right) {\n",
    "        if(maxLeft <= maxRight) {\n",
    "            ans += Math.max(0, maxLeft - height[left]);\n",
    "            maxLeft = Math.max(maxLeft, height[left]);\n",
    "            left++;\n",
    "        } else {\n",
    "            ans += Math.max(0, maxRight - height[right]);\n",
    "            maxRight = Math.max(maxRight, height[right]);\n",
    "            right--;\n",
    "        }\n",
    "    }\n",
    "\n",
    "    return ans;\n",
    "};"
   ]
  },
  {
   "cell_type": "code",
   "execution_count": null,
   "metadata": {
    "vscode": {
     "languageId": "javascript"
    }
   },
   "outputs": [],
   "source": [
    "function romanToInt(s: string): number {\n",
    "    const mapping: { [key: string]: number } = {\n",
    "        'I': 1,\n",
    "        'V': 5,\n",
    "        'X': 10,\n",
    "        'L': 50,\n",
    "        'C': 100,\n",
    "        'D': 500,\n",
    "        'M': 1000\n",
    "    };\n",
    "\n",
    "    let result = 0;\n",
    "    for(let i = 0; i < s.length; i++) {\n",
    "        if(i < s.length - 1 && mapping[s[i]] < mapping[s[i+1]]) {\n",
    "            result -= mapping[s[i]];\n",
    "        } else {\n",
    "            result += mapping[s[i]];\n",
    "        }\n",
    "    }\n",
    "\n",
    "    return result;\n",
    "}"
   ]
  },
  {
   "cell_type": "code",
   "execution_count": null,
   "metadata": {
    "vscode": {
     "languageId": "javascript"
    }
   },
   "outputs": [],
   "source": [
    "function intToRoman(num: number): string {\n",
    "    const symbols: [string, number][] = [\n",
    "        [\"M\", 1000], [\"CM\", 900], [\"D\", 500], [\"CD\", 400],\n",
    "        [\"C\", 100], [\"XC\", 90], [\"L\", 50], [\"XL\", 40],\n",
    "        [\"X\", 10], [\"IX\", 9], [\"V\", 5], [\"IV\", 4],\n",
    "        [\"I\", 1]\n",
    "    ];\n",
    "\n",
    "    let roman = \"\";\n",
    "\n",
    "    for (let [symbol, value] of symbols) {\n",
    "        while (value <= num) {\n",
    "            num -= value;\n",
    "            roman += symbol;\n",
    "        }\n",
    "        if (num === 0) {\n",
    "            break;\n",
    "        }\n",
    "    }\n",
    "\n",
    "    return roman;\n",
    "}"
   ]
  },
  {
   "cell_type": "code",
   "execution_count": null,
   "metadata": {
    "vscode": {
     "languageId": "javascript"
    }
   },
   "outputs": [],
   "source": [
    "function lengthOfLastWord(s: string): number {\n",
    "    let segments = s.trim().split(\" \");\n",
    "    return segments[segments.length - 1].length;\n",
    "}"
   ]
  },
  {
   "cell_type": "code",
   "execution_count": null,
   "metadata": {
    "vscode": {
     "languageId": "javascript"
    }
   },
   "outputs": [],
   "source": [
    "function longestCommonPrefix(strs: string[]): string {\n",
    "    if(strs === null || strs.length === 0) return \"\";\n",
    "    \n",
    "    strs.sort();\n",
    "\n",
    "    const firstStr = strs[0];\n",
    "    const lastStr = strs[strs.length - 1];\n",
    "    \n",
    "    let i = 0;\n",
    "    while(i < firstStr.length && i < lastStr.length && firstStr[i] === lastStr[i]) {\n",
    "        i++;\n",
    "    }\n",
    "    \n",
    "    return firstStr.substring(0, i);\n",
    "}"
   ]
  },
  {
   "cell_type": "code",
   "execution_count": null,
   "metadata": {
    "vscode": {
     "languageId": "javascript"
    }
   },
   "outputs": [],
   "source": [
    "function reverseWords(s: string): string {\n",
    "    let words = s.trim().split(' ');\n",
    "    let filteredWords = words.filter(word => word !== '');\n",
    "    return filteredWords.reverse().join(' ');\n",
    "}"
   ]
  },
  {
   "cell_type": "code",
   "execution_count": null,
   "metadata": {
    "vscode": {
     "languageId": "javascript"
    }
   },
   "outputs": [],
   "source": [
    "function convert(s: string, numRows: number): string {\n",
    "    if (numRows === 1) return s;\n",
    "\n",
    "    let rows: string[] = [];\n",
    "    for(let i=0; i < Math.min(numRows, s.length); i++) {\n",
    "        rows[i] = \"\";\n",
    "    }\n",
    "\n",
    "    let curRow = 0;\n",
    "    let goingDown = false;\n",
    "\n",
    "    for(let i=0; i < s.length; i++) {\n",
    "        rows[curRow] += s.charAt(i);\n",
    "        if (curRow === 0 || curRow === numRows - 1) goingDown = !goingDown;\n",
    "        curRow += goingDown ? 1 : -1;\n",
    "    }\n",
    "\n",
    "    return rows.join(\"\");\n",
    "}"
   ]
  },
  {
   "cell_type": "code",
   "execution_count": null,
   "metadata": {
    "vscode": {
     "languageId": "javascript"
    }
   },
   "outputs": [],
   "source": [
    "function strStr(haystack: string, needle: string): number {\n",
    "    return haystack.indexOf(needle);\n",
    "}"
   ]
  },
  {
   "cell_type": "code",
   "execution_count": null,
   "metadata": {
    "vscode": {
     "languageId": "javascript"
    }
   },
   "outputs": [],
   "source": [
    "function fullJustify(words: string[], maxWidth: number): string[] {\n",
    "    let res: string[] = [];\n",
    "    let i = 0;\n",
    "    while (i < words.length) {\n",
    "        let len = -1, begin = i;\n",
    "        while(i < words.length && words[i].length <= maxWidth - len - 1)\n",
    "            len += words[i++].length + 1;\n",
    "        let spaces = 1, extra = 0;\n",
    "        if (i - begin != 1 && i < words.length) { // not 1 word and not last line\n",
    "            spaces = Math.floor((maxWidth - len) / (i - begin - 1)) + 1;\n",
    "            extra = (maxWidth-len) % (i-begin-1);\n",
    "        }\n",
    "        res.push(words[begin]);\n",
    "        for(let j = begin+1; j < i; ++j) {\n",
    "            const space = ' '.repeat(spaces + (j-begin <= extra ? 1 : 0));\n",
    "            res[res.length - 1] += space + words[j];\n",
    "        };\n",
    "        res[res.length - 1] += ' '.repeat(maxWidth - res[res.length - 1].length); // pad end of each line with spaces\n",
    "    }\n",
    "    return res;\n",
    "}"
   ]
  },
  {
   "cell_type": "code",
   "execution_count": null,
   "metadata": {
    "vscode": {
     "languageId": "javascript"
    }
   },
   "outputs": [],
   "source": [
    "function isPalindrome(s: string): boolean {\n",
    "    s = s.toLowerCase().replace(/[^a-z0-9]/g, '');\n",
    "    return s === s.split('').reverse().join('');\n",
    "}"
   ]
  },
  {
   "cell_type": "code",
   "execution_count": null,
   "metadata": {
    "vscode": {
     "languageId": "javascript"
    }
   },
   "outputs": [],
   "source": [
    "function isSubsequence(s: string, t: string): boolean {\n",
    "    let i = 0; // pointer for string s\n",
    "    let j = 0; // pointer for string t\n",
    "    while(i < s.length && j < t.length) {\n",
    "        if(s[i] === t[j]) {\n",
    "            i++;\n",
    "        }\n",
    "        j++;\n",
    "    }\n",
    "    return i === s.length;\n",
    "}"
   ]
  },
  {
   "cell_type": "code",
   "execution_count": null,
   "metadata": {
    "vscode": {
     "languageId": "javascript"
    }
   },
   "outputs": [],
   "source": [
    "let leftPointer = 0;\n",
    "    let rightPointer = numbers.length - 1;\n",
    "\n",
    "    while(leftPointer < rightPointer) {\n",
    "        const currentSum = numbers[leftPointer] + numbers[rightPointer];\n",
    "        \n",
    "        if(currentSum === target) {\n",
    "            // +1 to convert from 0-indexed to 1-indexed\n",
    "            return [leftPointer + 1, rightPointer + 1];\n",
    "        } else if(currentSum < target) {\n",
    "            leftPointer++;\n",
    "        } else  {\n",
    "            rightPointer--;\n",
    "        }\n",
    "    }"
   ]
  },
  {
   "cell_type": "code",
   "execution_count": null,
   "metadata": {
    "vscode": {
     "languageId": "javascript"
    }
   },
   "outputs": [],
   "source": [
    "function maxArea(height: number[]): number {\n",
    "    let leftPointer = 0;\n",
    "    let rightPointer = height.length - 1;\n",
    "    let maxSoFar = 0;\n",
    "\n",
    "    while (leftPointer < rightPointer) {\n",
    "        const leftHeight = height[leftPointer];\n",
    "        const rightHeight = height[rightPointer];\n",
    "        const width = rightPointer - leftPointer;\n",
    "\n",
    "        const newArea = width * Math.min(leftHeight, rightHeight);\n",
    "        maxSoFar = Math.max(maxSoFar, newArea);\n",
    "\n",
    "        if (leftHeight < rightHeight) {\n",
    "            leftPointer++;\n",
    "        } else {\n",
    "            rightPointer--;\n",
    "        }\n",
    "    }\n",
    "\n",
    "    return maxSoFar;\n",
    "}"
   ]
  },
  {
   "cell_type": "code",
   "execution_count": null,
   "metadata": {
    "vscode": {
     "languageId": "javascript"
    }
   },
   "outputs": [],
   "source": [
    "function threeSum(nums: number[]): number[][] {\n",
    "    nums.sort((a, b) => a - b);\n",
    "    const result: number[][] = [];\n",
    "\n",
    "    for (let i = 0; i < nums.length; i++) {\n",
    "        // skip same elements to avoid duplicate triplets\n",
    "        if(i > 0 && nums[i] === nums[i - 1]) continue;\n",
    "\n",
    "        let low = i + 1, high = nums.length - 1;\n",
    "        while (low < high) {\n",
    "            const sum = nums[i] + nums[low] + nums[high];\n",
    "\n",
    "            if (sum === 0) {\n",
    "                result.push([nums[i], nums[low], nums[high]]);\n",
    "\n",
    "                // increase the low pointer and skip duplicate elements\n",
    "                while(nums[low] === nums[++low]);\n",
    "                // decrease the high pointer and skip duplicate elements\n",
    "                while(nums[high] === nums[--high]);\n",
    "\n",
    "            } else if (sum < 0) {\n",
    "                low++; // increase the low pointer if sum is less than zero\n",
    "\n",
    "            } else {\n",
    "                high--; // decrease the high pointer if sum is more than zero\n",
    "            }\n",
    "        }\n",
    "    }\n",
    "\n",
    "    return result;\n",
    "}"
   ]
  },
  {
   "cell_type": "code",
   "execution_count": null,
   "metadata": {
    "vscode": {
     "languageId": "javascript"
    }
   },
   "outputs": [],
   "source": [
    "function minSubArrayLen(target: number, nums: number[]): number {\n",
    "    let start = 0;\n",
    "    let sum = 0;\n",
    "    let minLength = Infinity;\n",
    "  \n",
    "    for (let end = 0; end < nums.length; end++) {\n",
    "      sum += nums[end];\n",
    "\n",
    "      while (sum >= target) {\n",
    "        minLength = Math.min(minLength, end - start + 1);\n",
    "        sum -= nums[start];\n",
    "        start++;\n",
    "      }\n",
    "    }\n",
    "  \n",
    "    return minLength === Infinity ? 0 : minLength;\n",
    "}"
   ]
  },
  {
   "cell_type": "code",
   "execution_count": null,
   "metadata": {
    "vscode": {
     "languageId": "javascript"
    }
   },
   "outputs": [],
   "source": [
    "function lengthOfLongestSubstring(s: string): number {\n",
    "    let start = 0;\n",
    "    let maxLength = 0;\n",
    "    const map = new Map<string, number>();\n",
    "\n",
    "    for (let end = 0; end < s.length; end++) {\n",
    "        if (map.has(s[end])) {\n",
    "            start = Math.max(map.get(s[end])!, start);\n",
    "        }\n",
    "\n",
    "        maxLength = Math.max(maxLength, end - start + 1);\n",
    "        map.set(s[end], end + 1);\n",
    "    }\n",
    "\n",
    "    return maxLength;\n",
    "}"
   ]
  },
  {
   "attachments": {},
   "cell_type": "markdown",
   "metadata": {},
   "source": [
    "function findSubstring(s: string, words: string[]): number[] {\n",
    "    if (words.length === 0 || s.length === 0) return [];\n",
    "\n",
    "    const wordMap: Map<string, number> = new Map();\n",
    "    for (const word of words) {\n",
    "        wordMap.set(word, (wordMap.get(word) || 0) + 1);\n",
    "    }\n",
    "\n",
    "    const wordLength: number = words[0].length;\n",
    "    const allWordsLength: number = wordLength * words.length;\n",
    "    const result: number[] = [];\n",
    "\n",
    "    for (let i = 0; i <= s.length - allWordsLength; i++) {\n",
    "        const seen: Map<string, number> = new Map();\n",
    "        for (let j = 0; j < words.length; j++) {\n",
    "            const tempWord = s.substr(i + j * wordLength, wordLength);\n",
    "            if (wordMap.has(tempWord)) {\n",
    "                seen.set(tempWord, (seen.get(tempWord) || 0) + 1);\n",
    "                if (seen.get(tempWord)! > wordMap.get(tempWord)!) {\n",
    "                    break;\n",
    "                }\n",
    "            } else {\n",
    "                break;\n",
    "            }\n",
    "            if (j + 1 === words.length) {\n",
    "                result.push(i);\n",
    "            }\n",
    "        }\n",
    "    }\n",
    "\n",
    "    return result;\n",
    "};"
   ]
  }
 ],
 "metadata": {
  "kernelspec": {
   "display_name": "Python 3",
   "language": "python",
   "name": "python3"
  },
  "language_info": {
   "name": "python",
   "version": "3.6.6"
  },
  "orig_nbformat": 4,
  "vscode": {
   "interpreter": {
    "hash": "949777d72b0d2535278d3dc13498b2535136f6dfe0678499012e853ee9abcab1"
   }
  }
 },
 "nbformat": 4,
 "nbformat_minor": 2
}

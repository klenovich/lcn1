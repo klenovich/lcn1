{
 "cells": [
  {
   "cell_type": "code",
   "execution_count": null,
   "metadata": {
    "vscode": {
     "languageId": "javascript"
    }
   },
   "outputs": [],
   "source": [
    "function hIndex(citations: number[]): number {\n",
    "    citations.sort((a, b) => b - a);\n",
    "    let h = 0;\n",
    "    while (h < citations.length && h < citations[h]) {\n",
    "        h++;\n",
    "    }\n",
    "    return h;\n",
    "}"
   ]
  },
  {
   "cell_type": "code",
   "execution_count": null,
   "metadata": {
    "vscode": {
     "languageId": "javascript"
    }
   },
   "outputs": [],
   "source": [
    "class RandomizedSet {\n",
    "    private numMap: Map<number, number>;\n",
    "    private numList: number[];\n",
    "\n",
    "    constructor() {\n",
    "        this.numMap = new Map();\n",
    "        this.numList = [];\n",
    "    }\n",
    "\n",
    "    insert(val: number): boolean {\n",
    "        if (!this.numMap.has(val)) {\n",
    "            this.numMap.set(val, this.numList.length);\n",
    "            this.numList.push(val);\n",
    "            return true;\n",
    "        }\n",
    "        return false;\n",
    "    }\n",
    "\n",
    "    remove(val: number): boolean {\n",
    "        if (this.numMap.has(val)) {\n",
    "            let lastElement = this.numList[this.numList.length - 1];\n",
    "            let idx = this.numMap.get(val) as number;\n",
    "            // Move the last element to the index where we delete an element\n",
    "            this.numList[idx] = lastElement;\n",
    "            this.numMap.set(lastElement, idx);\n",
    "            // Remove the last element\n",
    "            this.numList.length--;\n",
    "            this.numMap.delete(val);\n",
    "            return true;\n",
    "        }\n",
    "        return false;\n",
    "    }\n",
    "\n",
    "    getRandom(): number {\n",
    "        let randomIndex = Math.floor(Math.random() * this.numList.length);\n",
    "        return this.numList[randomIndex];\n",
    "    }\n",
    "}"
   ]
  },
  {
   "cell_type": "code",
   "execution_count": null,
   "metadata": {
    "vscode": {
     "languageId": "javascript"
    }
   },
   "outputs": [],
   "source": [
    "function productExceptSelf(nums: number[]): number[] {\n",
    "    let length = nums.length;\n",
    "\n",
    "    let answer: number[] = [];\n",
    "    answer[0] = 1;\n",
    "\n",
    "    // Calculate left product for each element\n",
    "    for(let i = 1; i < length; i++) {\n",
    "        answer[i] = nums[i - 1] * answer[i - 1];\n",
    "    }\n",
    "\n",
    "    let R = 1;\n",
    "    // Calculate the right product for each element and multiply it with the corresponding left product\n",
    "    for(let i = length - 1; i >= 0; i--) {\n",
    "        answer[i] = answer[i] * R;\n",
    "        R *= nums[i];\n",
    "    }\n",
    "\n",
    "    return answer;\n",
    "}"
   ]
  },
  {
   "cell_type": "code",
   "execution_count": null,
   "metadata": {
    "vscode": {
     "languageId": "javascript"
    }
   },
   "outputs": [],
   "source": [
    "function canCompleteCircuit(gas: number[], cost: number[]): number {\n",
    "    let totalGas = 0, totalCost = 0, tank = 0, start = 0, minGas = 0;\n",
    "\n",
    "    for(let i = 0; i < gas.length; i++){\n",
    "        totalGas += gas[i];\n",
    "        totalCost += cost[i];\n",
    "        tank += gas[i] - cost[i];\n",
    "        // Move the starting point index forward\n",
    "        if(tank < minGas) {\n",
    "            minGas = tank;\n",
    "            start = i + 1;\n",
    "        }\n",
    "    }\n",
    "\n",
    "    // If total gas is less than total cost, return -1 indicating no solution exists\n",
    "    if(totalGas < totalCost) return -1;\n",
    "\n",
    "    return start % gas.length;\n",
    "}"
   ]
  },
  {
   "cell_type": "code",
   "execution_count": null,
   "metadata": {
    "vscode": {
     "languageId": "javascript"
    }
   },
   "outputs": [],
   "source": [
    "function candy(ratings: number[]): number {\n",
    "    const n = ratings.length;\n",
    "   const candies = new Array(n).fill(1);\n",
    "\n",
    "   for (let i = 1; i < n; i++) {\n",
    "       if (ratings[i] > ratings[i - 1]) {\n",
    "           candies[i] = candies[i - 1] + 1;\n",
    "       }\n",
    "   }\n",
    "\n",
    "   for (let i = n - 2; i >= 0; i--) {\n",
    "       if (ratings[i] > ratings[i + 1]) {\n",
    "           candies[i] = Math.max(candies[i], candies[i + 1] + 1);\n",
    "       }\n",
    "   }\n",
    "\n",
    "   return candies.reduce((a, b) => a + b, 0);\n",
    "};"
   ]
  },
  {
   "cell_type": "code",
   "execution_count": null,
   "metadata": {
    "vscode": {
     "languageId": "javascript"
    }
   },
   "outputs": [],
   "source": [
    "function trap(height: number[]): number {\n",
    "    if(height.length === 0) return 0;\n",
    "\n",
    "    const n = height.length;\n",
    "    let left = 0;\n",
    "    let right = n - 1;\n",
    "    let maxLeft = height[0];\n",
    "    let maxRight = height[n - 1];\n",
    "    let ans = 0;\n",
    "\n",
    "    while(left <= right) {\n",
    "        if(maxLeft <= maxRight) {\n",
    "            ans += Math.max(0, maxLeft - height[left]);\n",
    "            maxLeft = Math.max(maxLeft, height[left]);\n",
    "            left++;\n",
    "        } else {\n",
    "            ans += Math.max(0, maxRight - height[right]);\n",
    "            maxRight = Math.max(maxRight, height[right]);\n",
    "            right--;\n",
    "        }\n",
    "    }\n",
    "\n",
    "    return ans;\n",
    "};"
   ]
  },
  {
   "cell_type": "code",
   "execution_count": null,
   "metadata": {
    "vscode": {
     "languageId": "javascript"
    }
   },
   "outputs": [],
   "source": [
    "function romanToInt(s: string): number {\n",
    "    const mapping: { [key: string]: number } = {\n",
    "        'I': 1,\n",
    "        'V': 5,\n",
    "        'X': 10,\n",
    "        'L': 50,\n",
    "        'C': 100,\n",
    "        'D': 500,\n",
    "        'M': 1000\n",
    "    };\n",
    "\n",
    "    let result = 0;\n",
    "    for(let i = 0; i < s.length; i++) {\n",
    "        if(i < s.length - 1 && mapping[s[i]] < mapping[s[i+1]]) {\n",
    "            result -= mapping[s[i]];\n",
    "        } else {\n",
    "            result += mapping[s[i]];\n",
    "        }\n",
    "    }\n",
    "\n",
    "    return result;\n",
    "}"
   ]
  },
  {
   "cell_type": "code",
   "execution_count": null,
   "metadata": {
    "vscode": {
     "languageId": "javascript"
    }
   },
   "outputs": [],
   "source": [
    "function intToRoman(num: number): string {\n",
    "    const symbols: [string, number][] = [\n",
    "        [\"M\", 1000], [\"CM\", 900], [\"D\", 500], [\"CD\", 400],\n",
    "        [\"C\", 100], [\"XC\", 90], [\"L\", 50], [\"XL\", 40],\n",
    "        [\"X\", 10], [\"IX\", 9], [\"V\", 5], [\"IV\", 4],\n",
    "        [\"I\", 1]\n",
    "    ];\n",
    "\n",
    "    let roman = \"\";\n",
    "\n",
    "    for (let [symbol, value] of symbols) {\n",
    "        while (value <= num) {\n",
    "            num -= value;\n",
    "            roman += symbol;\n",
    "        }\n",
    "        if (num === 0) {\n",
    "            break;\n",
    "        }\n",
    "    }\n",
    "\n",
    "    return roman;\n",
    "}"
   ]
  },
  {
   "cell_type": "code",
   "execution_count": null,
   "metadata": {
    "vscode": {
     "languageId": "javascript"
    }
   },
   "outputs": [],
   "source": [
    "function lengthOfLastWord(s: string): number {\n",
    "    let segments = s.trim().split(\" \");\n",
    "    return segments[segments.length - 1].length;\n",
    "}"
   ]
  },
  {
   "cell_type": "code",
   "execution_count": null,
   "metadata": {
    "vscode": {
     "languageId": "javascript"
    }
   },
   "outputs": [],
   "source": [
    "function longestCommonPrefix(strs: string[]): string {\n",
    "    if(strs === null || strs.length === 0) return \"\";\n",
    "    \n",
    "    strs.sort();\n",
    "\n",
    "    const firstStr = strs[0];\n",
    "    const lastStr = strs[strs.length - 1];\n",
    "    \n",
    "    let i = 0;\n",
    "    while(i < firstStr.length && i < lastStr.length && firstStr[i] === lastStr[i]) {\n",
    "        i++;\n",
    "    }\n",
    "    \n",
    "    return firstStr.substring(0, i);\n",
    "}"
   ]
  },
  {
   "cell_type": "code",
   "execution_count": null,
   "metadata": {
    "vscode": {
     "languageId": "javascript"
    }
   },
   "outputs": [],
   "source": [
    "function reverseWords(s: string): string {\n",
    "    let words = s.trim().split(' ');\n",
    "    let filteredWords = words.filter(word => word !== '');\n",
    "    return filteredWords.reverse().join(' ');\n",
    "}"
   ]
  },
  {
   "cell_type": "code",
   "execution_count": null,
   "metadata": {
    "vscode": {
     "languageId": "javascript"
    }
   },
   "outputs": [],
   "source": [
    "function convert(s: string, numRows: number): string {\n",
    "    if (numRows === 1) return s;\n",
    "\n",
    "    let rows: string[] = [];\n",
    "    for(let i=0; i < Math.min(numRows, s.length); i++) {\n",
    "        rows[i] = \"\";\n",
    "    }\n",
    "\n",
    "    let curRow = 0;\n",
    "    let goingDown = false;\n",
    "\n",
    "    for(let i=0; i < s.length; i++) {\n",
    "        rows[curRow] += s.charAt(i);\n",
    "        if (curRow === 0 || curRow === numRows - 1) goingDown = !goingDown;\n",
    "        curRow += goingDown ? 1 : -1;\n",
    "    }\n",
    "\n",
    "    return rows.join(\"\");\n",
    "}"
   ]
  },
  {
   "cell_type": "code",
   "execution_count": null,
   "metadata": {
    "vscode": {
     "languageId": "javascript"
    }
   },
   "outputs": [],
   "source": [
    "function strStr(haystack: string, needle: string): number {\n",
    "    return haystack.indexOf(needle);\n",
    "}"
   ]
  },
  {
   "cell_type": "code",
   "execution_count": null,
   "metadata": {
    "vscode": {
     "languageId": "javascript"
    }
   },
   "outputs": [],
   "source": [
    "function fullJustify(words: string[], maxWidth: number): string[] {\n",
    "    let res: string[] = [];\n",
    "    let i = 0;\n",
    "    while (i < words.length) {\n",
    "        let len = -1, begin = i;\n",
    "        while(i < words.length && words[i].length <= maxWidth - len - 1)\n",
    "            len += words[i++].length + 1;\n",
    "        let spaces = 1, extra = 0;\n",
    "        if (i - begin != 1 && i < words.length) { // not 1 word and not last line\n",
    "            spaces = Math.floor((maxWidth - len) / (i - begin - 1)) + 1;\n",
    "            extra = (maxWidth-len) % (i-begin-1);\n",
    "        }\n",
    "        res.push(words[begin]);\n",
    "        for(let j = begin+1; j < i; ++j) {\n",
    "            const space = ' '.repeat(spaces + (j-begin <= extra ? 1 : 0));\n",
    "            res[res.length - 1] += space + words[j];\n",
    "        };\n",
    "        res[res.length - 1] += ' '.repeat(maxWidth - res[res.length - 1].length); // pad end of each line with spaces\n",
    "    }\n",
    "    return res;\n",
    "}"
   ]
  },
  {
   "cell_type": "code",
   "execution_count": null,
   "metadata": {
    "vscode": {
     "languageId": "javascript"
    }
   },
   "outputs": [],
   "source": [
    "function isPalindrome(s: string): boolean {\n",
    "    s = s.toLowerCase().replace(/[^a-z0-9]/g, '');\n",
    "    return s === s.split('').reverse().join('');\n",
    "}"
   ]
  },
  {
   "cell_type": "code",
   "execution_count": null,
   "metadata": {
    "vscode": {
     "languageId": "javascript"
    }
   },
   "outputs": [],
   "source": [
    "function isSubsequence(s: string, t: string): boolean {\n",
    "    let i = 0; // pointer for string s\n",
    "    let j = 0; // pointer for string t\n",
    "    while(i < s.length && j < t.length) {\n",
    "        if(s[i] === t[j]) {\n",
    "            i++;\n",
    "        }\n",
    "        j++;\n",
    "    }\n",
    "    return i === s.length;\n",
    "}"
   ]
  },
  {
   "cell_type": "code",
   "execution_count": null,
   "metadata": {
    "vscode": {
     "languageId": "javascript"
    }
   },
   "outputs": [],
   "source": [
    "let leftPointer = 0;\n",
    "    let rightPointer = numbers.length - 1;\n",
    "\n",
    "    while(leftPointer < rightPointer) {\n",
    "        const currentSum = numbers[leftPointer] + numbers[rightPointer];\n",
    "        \n",
    "        if(currentSum === target) {\n",
    "            // +1 to convert from 0-indexed to 1-indexed\n",
    "            return [leftPointer + 1, rightPointer + 1];\n",
    "        } else if(currentSum < target) {\n",
    "            leftPointer++;\n",
    "        } else  {\n",
    "            rightPointer--;\n",
    "        }\n",
    "    }"
   ]
  },
  {
   "cell_type": "code",
   "execution_count": null,
   "metadata": {
    "vscode": {
     "languageId": "javascript"
    }
   },
   "outputs": [],
   "source": [
    "function maxArea(height: number[]): number {\n",
    "    let leftPointer = 0;\n",
    "    let rightPointer = height.length - 1;\n",
    "    let maxSoFar = 0;\n",
    "\n",
    "    while (leftPointer < rightPointer) {\n",
    "        const leftHeight = height[leftPointer];\n",
    "        const rightHeight = height[rightPointer];\n",
    "        const width = rightPointer - leftPointer;\n",
    "\n",
    "        const newArea = width * Math.min(leftHeight, rightHeight);\n",
    "        maxSoFar = Math.max(maxSoFar, newArea);\n",
    "\n",
    "        if (leftHeight < rightHeight) {\n",
    "            leftPointer++;\n",
    "        } else {\n",
    "            rightPointer--;\n",
    "        }\n",
    "    }\n",
    "\n",
    "    return maxSoFar;\n",
    "}"
   ]
  },
  {
   "cell_type": "code",
   "execution_count": null,
   "metadata": {
    "vscode": {
     "languageId": "javascript"
    }
   },
   "outputs": [],
   "source": [
    "function threeSum(nums: number[]): number[][] {\n",
    "    nums.sort((a, b) => a - b);\n",
    "    const result: number[][] = [];\n",
    "\n",
    "    for (let i = 0; i < nums.length; i++) {\n",
    "        // skip same elements to avoid duplicate triplets\n",
    "        if(i > 0 && nums[i] === nums[i - 1]) continue;\n",
    "\n",
    "        let low = i + 1, high = nums.length - 1;\n",
    "        while (low < high) {\n",
    "            const sum = nums[i] + nums[low] + nums[high];\n",
    "\n",
    "            if (sum === 0) {\n",
    "                result.push([nums[i], nums[low], nums[high]]);\n",
    "\n",
    "                // increase the low pointer and skip duplicate elements\n",
    "                while(nums[low] === nums[++low]);\n",
    "                // decrease the high pointer and skip duplicate elements\n",
    "                while(nums[high] === nums[--high]);\n",
    "\n",
    "            } else if (sum < 0) {\n",
    "                low++; // increase the low pointer if sum is less than zero\n",
    "\n",
    "            } else {\n",
    "                high--; // decrease the high pointer if sum is more than zero\n",
    "            }\n",
    "        }\n",
    "    }\n",
    "\n",
    "    return result;\n",
    "}"
   ]
  },
  {
   "cell_type": "code",
   "execution_count": null,
   "metadata": {
    "vscode": {
     "languageId": "javascript"
    }
   },
   "outputs": [],
   "source": [
    "function minSubArrayLen(target: number, nums: number[]): number {\n",
    "    let start = 0;\n",
    "    let sum = 0;\n",
    "    let minLength = Infinity;\n",
    "  \n",
    "    for (let end = 0; end < nums.length; end++) {\n",
    "      sum += nums[end];\n",
    "\n",
    "      while (sum >= target) {\n",
    "        minLength = Math.min(minLength, end - start + 1);\n",
    "        sum -= nums[start];\n",
    "        start++;\n",
    "      }\n",
    "    }\n",
    "  \n",
    "    return minLength === Infinity ? 0 : minLength;\n",
    "}"
   ]
  },
  {
   "cell_type": "code",
   "execution_count": null,
   "metadata": {
    "vscode": {
     "languageId": "javascript"
    }
   },
   "outputs": [],
   "source": [
    "function lengthOfLongestSubstring(s: string): number {\n",
    "    let start = 0;\n",
    "    let maxLength = 0;\n",
    "    const map = new Map<string, number>();\n",
    "\n",
    "    for (let end = 0; end < s.length; end++) {\n",
    "        if (map.has(s[end])) {\n",
    "            start = Math.max(map.get(s[end])!, start);\n",
    "        }\n",
    "\n",
    "        maxLength = Math.max(maxLength, end - start + 1);\n",
    "        map.set(s[end], end + 1);\n",
    "    }\n",
    "\n",
    "    return maxLength;\n",
    "}"
   ]
  },
  {
   "attachments": {},
   "cell_type": "markdown",
   "metadata": {},
   "source": [
    "function findSubstring(s: string, words: string[]): number[] {\n",
    "    if (words.length === 0 || s.length === 0) return [];\n",
    "\n",
    "    const wordMap: Map<string, number> = new Map();\n",
    "    for (const word of words) {\n",
    "        wordMap.set(word, (wordMap.get(word) || 0) + 1);\n",
    "    }\n",
    "\n",
    "    const wordLength: number = words[0].length;\n",
    "    const allWordsLength: number = wordLength * words.length;\n",
    "    const result: number[] = [];\n",
    "\n",
    "    for (let i = 0; i <= s.length - allWordsLength; i++) {\n",
    "        const seen: Map<string, number> = new Map();\n",
    "        for (let j = 0; j < words.length; j++) {\n",
    "            const tempWord = s.substr(i + j * wordLength, wordLength);\n",
    "            if (wordMap.has(tempWord)) {\n",
    "                seen.set(tempWord, (seen.get(tempWord) || 0) + 1);\n",
    "                if (seen.get(tempWord)! > wordMap.get(tempWord)!) {\n",
    "                    break;\n",
    "                }\n",
    "            } else {\n",
    "                break;\n",
    "            }\n",
    "            if (j + 1 === words.length) {\n",
    "                result.push(i);\n",
    "            }\n",
    "        }\n",
    "    }\n",
    "\n",
    "    return result;\n",
    "};"
   ]
  },
  {
   "cell_type": "code",
   "execution_count": null,
   "metadata": {
    "vscode": {
     "languageId": "javascript"
    }
   },
   "outputs": [],
   "source": [
    "function minWindow(s: string, t: string): string {\n",
    "    const map = new Map<string, number>();\n",
    "    for (let c of t) {\n",
    "        map.set(c, (map.get(c) || 0) + 1);\n",
    "    }\n",
    "\n",
    "    let left = 0, right = 0;\n",
    "    let start = 0, end = -1;\n",
    "    let counter = map.size;\n",
    "\n",
    "    while (right < s.length) {\n",
    "        let rChar = s[right];\n",
    "        \n",
    "        if (map.has(rChar)) {\n",
    "            map.set(rChar, map.get(rChar)! - 1);\n",
    "            if (map.get(rChar) === 0) counter--;\n",
    "        }\n",
    "\n",
    "        while (counter === 0) {\n",
    "            if (end === -1 || right - left < end - start) {\n",
    "                start = left;\n",
    "                end = right;\n",
    "            }\n",
    "\n",
    "            let lChar = s[left];\n",
    "\n",
    "            if (map.has(lChar)) {\n",
    "                map.set(lChar, map.get(lChar)! + 1);\n",
    "                if (map.get(lChar) > 0) counter++;\n",
    "            }\n",
    "\n",
    "            left++;\n",
    "        }\n",
    "        right++;\n",
    "    }\n",
    "    \n",
    "    return end === -1 ? \"\" : s.substring(start, end + 1);\n",
    "}"
   ]
  },
  {
   "cell_type": "code",
   "execution_count": null,
   "metadata": {
    "vscode": {
     "languageId": "javascript"
    }
   },
   "outputs": [],
   "source": [
    "function isValidSudoku(board: string[][]): boolean {\n",
    "    const rows = new Set<string>()\n",
    "    const columns = new Set<string>()\n",
    "    const boxes = new Set<string>()\n",
    "\n",
    "    for (let i = 0; i < 9; i++) {\n",
    "        for (let j = 0; j < 9; j++) {\n",
    "            const number = board[i][j]\n",
    "            if (number !== '.') {\n",
    "                const boxIndex = Math.floor(i / 3) * 3 + Math.floor(j / 3)\n",
    "                if (\n",
    "                    rows.has(`${number} in row ${i}`) ||\n",
    "                    columns.has(`${number} in column ${j}`) ||\n",
    "                    boxes.has(`${number} in box ${boxIndex}`)\n",
    "                ) {\n",
    "                    return false\n",
    "                }\n",
    "                rows.add(`${number} in row ${i}`)\n",
    "                columns.add(`${number} in column ${j}`)\n",
    "                boxes.add(`${number} in box ${boxIndex}`)\n",
    "            }\n",
    "        }\n",
    "    }\n",
    "    return true\n",
    "}"
   ]
  },
  {
   "cell_type": "code",
   "execution_count": null,
   "metadata": {
    "vscode": {
     "languageId": "javascript"
    }
   },
   "outputs": [],
   "source": [
    "function spiralOrder(matrix: number[][]): number[] {\n",
    "    if (matrix.length == 0) return [];\n",
    "    const result = [];\n",
    "    let top = 0,\n",
    "      bottom = matrix.length - 1,\n",
    "      left = 0,\n",
    "      right = matrix[0].length - 1;\n",
    "    let size = matrix.length * matrix[0].length;\n",
    "  \n",
    "    while (result.length < size) {\n",
    "      for (let i = left; i <= right && result.length < size; i++) result.push(matrix[top][i]);\n",
    "      top++;\n",
    "      for (let i = top; i <= bottom && result.length < size; i++) result.push(matrix[i][right]);\n",
    "      right--;\n",
    "      for (let i = right; i >= left && result.length < size; i--) result.push(matrix[bottom][i]);\n",
    "      bottom--;\n",
    "      for (let i = bottom; i >= top && result.length < size; i--) result.push(matrix[i][left]);\n",
    "      left++;\n",
    "    }\n",
    "    return result;\n",
    "  }"
   ]
  },
  {
   "cell_type": "code",
   "execution_count": null,
   "metadata": {
    "vscode": {
     "languageId": "javascript"
    }
   },
   "outputs": [],
   "source": [
    "function rotate(matrix: number[][]): void {\n",
    "    const n = matrix.length;\n",
    "    for (let i = 0; i < Math.floor(n / 2); i++) {\n",
    "        for (let j = i; j < n - i - 1; j++) {\n",
    "            let temp = matrix[i][j]; \n",
    "            matrix[i][j] = matrix[n - j - 1][i];\n",
    "            matrix[n - j - 1][i] = matrix[n - i - 1][n - j - 1];\n",
    "            matrix[n - i - 1][n - j - 1] = matrix[j][n - i - 1];\n",
    "            matrix[j][n - i - 1] = temp;\n",
    "        }\n",
    "    }\n",
    "}"
   ]
  },
  {
   "cell_type": "code",
   "execution_count": null,
   "metadata": {
    "vscode": {
     "languageId": "javascript"
    }
   },
   "outputs": [],
   "source": [
    "function setZeroes(matrix: number[][]): void {\n",
    "    let isFirstColumnZero = false;\n",
    "\n",
    "    for (let i = 0; i < matrix.length; i++) {\n",
    "        \n",
    "        // Check if the first column needs to be set to zero\n",
    "        if (matrix[i][0] === 0) {\n",
    "            isFirstColumnZero = true;\n",
    "        }\n",
    "\n",
    "        // Find zeros in the rest of the column\n",
    "        for (let j = 1; j < matrix[i].length; j++) {\n",
    "\n",
    "            // If an element is zero, set the first element of the corresponding row and column to zero\n",
    "            if (matrix[i][j] === 0) {\n",
    "                matrix[0][j] = 0;\n",
    "                matrix[i][0] = 0;\n",
    "            }\n",
    "        }\n",
    "    }\n",
    "\n",
    "    // Iterate over the array again and using the first row and first column, update the elements.\n",
    "    for (let i = 1; i < matrix.length; i++) {\n",
    "        for (let j = 1; j < matrix[0].length; j++) {\n",
    "            if (matrix[i][0] === 0 || matrix[0][j] === 0) {\n",
    "                matrix[i][j] = 0;\n",
    "            }\n",
    "        }\n",
    "    }\n",
    "\n",
    "    // Check if the first row needs to be set to zero\n",
    "    if (matrix[0][0] === 0) {\n",
    "        for (let j = 0; j < matrix[0].length; j++) {\n",
    "            matrix[0][j] = 0;\n",
    "        }\n",
    "    }\n",
    "\n",
    "    // Check if the first column needs to be set to zero\n",
    "    if (isFirstColumnZero) {\n",
    "        for (let i = 0; i < matrix.length; i++) {\n",
    "            matrix[i][0] = 0;\n",
    "        }\n",
    "    }\n",
    "}"
   ]
  },
  {
   "cell_type": "code",
   "execution_count": null,
   "metadata": {
    "vscode": {
     "languageId": "javascript"
    }
   },
   "outputs": [],
   "source": [
    "function gameOfLife(board: number[][]): void {\n",
    "    const dx = [-1, -1, -1, 0, 0, 1, 1, 1];\n",
    "    const dy = [-1, 0, 1, -1, 1, -1, 0, 1];\n",
    "    \n",
    "    const m = board.length;\n",
    "    const n = board[0].length;\n",
    "  \n",
    "    for (let i = 0; i < m; i++) {\n",
    "      for (let j = 0; j < n; j++) {\n",
    "        let lives = 0;\n",
    "  \n",
    "        for (let k = 0; k < 8; k++) {\n",
    "          const ni = i + dx[k], nj = j + dy[k];\n",
    "  \n",
    "          if (ni >= 0 && ni < m && nj >= 0 && nj < n) {\n",
    "            lives += board[ni][nj] & 1;\n",
    "          }\n",
    "        }\n",
    "  \n",
    "        if (board[i][j] === 1 && (lives < 2 || lives > 3)) {\n",
    "          // Transition 1 -> 0\n",
    "          continue;\n",
    "        }\n",
    "  \n",
    "        if (board[i][j] === 0 && lives === 3) {\n",
    "          // Transition 0 -> 1\n",
    "          board[i][j] = 2;\n",
    "        }\n",
    "  \n",
    "        if (board[i][j] === 1 && (lives === 2 || lives === 3)) {\n",
    "          // Transition 1 -> 1\n",
    "          board[i][j] = 3;\n",
    "        }\n",
    "      }\n",
    "    }\n",
    "  \n",
    "    // Change the board to its new state\n",
    "    for (let i = 0; i < m; i++) {\n",
    "      for (let j = 0; j < n; j++) {\n",
    "        board[i][j] >>= 1;\n",
    "      }\n",
    "    }\n",
    "  }"
   ]
  },
  {
   "cell_type": "code",
   "execution_count": null,
   "metadata": {
    "vscode": {
     "languageId": "javascript"
    }
   },
   "outputs": [],
   "source": [
    "function canConstruct(ransomNote: string, magazine: string): boolean {\n",
    "    // Create a frequency map for characters in the magazine\n",
    "    const freq: { [key: string]: number } = {};\n",
    "    \n",
    "    for (let char of magazine) {\n",
    "        if (!freq[char]) {\n",
    "            freq[char] = 0;\n",
    "        }\n",
    "        freq[char]++;\n",
    "    }\n",
    "    \n",
    "    // Check if each character in the ransomNote can be constructed from the magazine\n",
    "    for (let char of ransomNote) {\n",
    "        if (!freq[char] || freq[char] < 1) {\n",
    "            return false; // The char is not available in the magazine\n",
    "        }\n",
    "        freq[char]--;\n",
    "    }\n",
    "    \n",
    "    // If we reach this point, it means the ransom note can be constructed from the magazine\n",
    "    return true;\n",
    "}"
   ]
  },
  {
   "cell_type": "code",
   "execution_count": null,
   "metadata": {
    "vscode": {
     "languageId": "javascript"
    }
   },
   "outputs": [],
   "source": [
    "function isIsomorphic(s: string, t: string): boolean {\n",
    "    let mapS: { [key: string]: string } = {};\n",
    "    let mapT: { [key: string]: string } = {};\n",
    "\n",
    "    for (let i = 0; i < s.length; i++) {\n",
    "        let charS = s[i];\n",
    "        let charT = t[i];\n",
    "\n",
    "        // Check validity of mapping\n",
    "        if ((mapS[charS] && mapS[charS] !== charT) || (mapT[charT] && mapT[charT] !== charS)) {\n",
    "            return false;\n",
    "        }\n",
    "\n",
    "        /// Create the mapping\n",
    "        mapS[charS] = charT;\n",
    "        mapT[charT] = charS;\n",
    "    }\n",
    "    return true;\n",
    "}"
   ]
  },
  {
   "attachments": {},
   "cell_type": "markdown",
   "metadata": {},
   "source": [
    "function wordPattern(pattern: string, s: string): boolean {\n",
    "    const words = s.split(' ');\n",
    "    \n",
    "    if (pattern.length !== words.length) {\n",
    "        return false;\n",
    "    }\n",
    "    \n",
    "    const patternToWord = new Map();\n",
    "    const wordToPattern = new Map();\n",
    "    \n",
    "    for (let i = 0; i < pattern.length; i++) {\n",
    "        const char = pattern[i];\n",
    "        const word = words[i];\n",
    "        \n",
    "        if (!patternToWord.has(char)) {\n",
    "            patternToWord.set(char, word);\n",
    "        }\n",
    "        if (!wordToPattern.has(word)) {\n",
    "            wordToPattern.set(word, char);\n",
    "        }\n",
    "        \n",
    "        if (patternToWord.get(char) !== word || wordToPattern.get(word) !== char) {\n",
    "            return false;\n",
    "        }\n",
    "    }\n",
    "    \n",
    "    return true;\n",
    "}"
   ]
  },
  {
   "cell_type": "code",
   "execution_count": null,
   "metadata": {
    "vscode": {
     "languageId": "javascript"
    }
   },
   "outputs": [],
   "source": [
    "function isAnagram(s: string, t: string): boolean {\n",
    "    if (s.length !== t.length) {\n",
    "        return false;\n",
    "    }\n",
    "    \n",
    "    // Create frequency tables for s and t\n",
    "    const frequencyS: { [key: string]: number } = {};\n",
    "    const frequencyT: { [key: string]: number } = {};\n",
    "\n",
    "    for (let i = 0; i < s.length; i++) {\n",
    "        frequencyS[s[i]] = (frequencyS[s[i]] || 0) + 1;\n",
    "        frequencyT[t[i]] = (frequencyT[t[i]] || 0) + 1;\n",
    "    }\n",
    "\n",
    "    // Compare frequency maps\n",
    "    for (let key in frequencyS) {\n",
    "        if (frequencyS[key] !== frequencyT[key]) {\n",
    "            return false;\n",
    "        }\n",
    "    }\n",
    "\n",
    "    return true;\n",
    "}"
   ]
  },
  {
   "cell_type": "code",
   "execution_count": null,
   "metadata": {
    "vscode": {
     "languageId": "javascript"
    }
   },
   "outputs": [],
   "source": [
    "function groupAnagrams(strs: string[]): string[][] {\n",
    "    const map: { [key: string]: string[] } = {};\n",
    "\n",
    "    for (let str of strs) {\n",
    "        const sorted = str.split('').sort().join('');\n",
    "        if (map[sorted]) {\n",
    "            map[sorted].push(str);\n",
    "        } else {\n",
    "            map[sorted] = [str];\n",
    "        }\n",
    "    }\n",
    "\n",
    "    return Object.values(map);\n",
    "}"
   ]
  },
  {
   "cell_type": "code",
   "execution_count": null,
   "metadata": {
    "vscode": {
     "languageId": "javascript"
    }
   },
   "outputs": [],
   "source": [
    "function twoSum(nums: number[], target: number): number[] {\n",
    "    const map: {[key: number]: number} = {};\n",
    "\n",
    "    for (let i = 0; i < nums.length; i++) {\n",
    "        const complement = target - nums[i];\n",
    "        if (complement in map) {\n",
    "            return [map[complement], i];\n",
    "        }\n",
    "        map[nums[i]] = i;\n",
    "    }\n",
    "    \n",
    "    return [];\n",
    "}"
   ]
  },
  {
   "cell_type": "code",
   "execution_count": null,
   "metadata": {
    "vscode": {
     "languageId": "javascript"
    }
   },
   "outputs": [],
   "source": [
    "function isHappy(n: number): boolean {\n",
    "    let slow = n;\n",
    "    let fast = getNext(n);\n",
    "\n",
    "    while (fast !== 1 && slow !== fast) {\n",
    "        slow = getNext(slow);\n",
    "        fast = getNext(getNext(fast));\n",
    "    }\n",
    "\n",
    "    return fast === 1;\n",
    "}\n",
    "\n",
    "function getNext(n: number): number {\n",
    "    let totalSum = 0;\n",
    "    while (n > 0) {\n",
    "        let d = n % 10;\n",
    "        n = Math.floor(n / 10);\n",
    "        totalSum += d * d;\n",
    "    }\n",
    "    return totalSum;\n",
    "}"
   ]
  },
  {
   "cell_type": "code",
   "execution_count": null,
   "metadata": {
    "vscode": {
     "languageId": "javascript"
    }
   },
   "outputs": [],
   "source": [
    "function containsNearbyDuplicate(nums: number[], k: number): boolean {\n",
    "    const map: { [key: number]: number } = {};\n",
    "\n",
    "    for (let i = 0; i < nums.length; i++) {\n",
    "        if (nums[i] in map && i - map[nums[i]] <= k) {\n",
    "            return true;\n",
    "        }\n",
    "        map[nums[i]] = i;\n",
    "    }\n",
    "\n",
    "    return false;\n",
    "}"
   ]
  },
  {
   "cell_type": "code",
   "execution_count": null,
   "metadata": {
    "vscode": {
     "languageId": "javascript"
    }
   },
   "outputs": [],
   "source": [
    "function longestConsecutive(nums: number[]): number {\n",
    "    const numSet = new Set(nums);\n",
    "    let longestStreak = 0;\n",
    "\n",
    "    for (let num of numSet) {\n",
    "        if (!numSet.has(num - 1)) {\n",
    "            let currentNum = num;\n",
    "            let currentStreak = 1;\n",
    "\n",
    "            while (numSet.has(currentNum + 1)) {\n",
    "                currentNum += 1;\n",
    "                currentStreak += 1;\n",
    "            }\n",
    "\n",
    "            longestStreak = Math.max(longestStreak, currentStreak);\n",
    "        }\n",
    "    }\n",
    "\n",
    "    return longestStreak;\n",
    "}"
   ]
  },
  {
   "cell_type": "code",
   "execution_count": null,
   "metadata": {
    "vscode": {
     "languageId": "javascript"
    }
   },
   "outputs": [],
   "source": [
    "function summaryRanges(nums: number[]): string[] {\n",
    "    if (nums.length === 0) {\n",
    "        return [];\n",
    "    }\n",
    "\n",
    "    let start = nums[0], end = nums[0];\n",
    "    const result: string[] = [];\n",
    "\n",
    "    for (let i = 1; i < nums.length; i++) {\n",
    "        if (nums[i] !== end + 1) {\n",
    "            result.push(start === end ? `${start}` : `${start}->${end}`);\n",
    "            start = end = nums[i];\n",
    "        } else {\n",
    "            end = nums[i];\n",
    "        }\n",
    "    }\n",
    "\n",
    "    result.push(start === end ? `${start}` : `${start}->${end}`);\n",
    "    \n",
    "    return result;\n",
    "}"
   ]
  },
  {
   "cell_type": "code",
   "execution_count": null,
   "metadata": {
    "vscode": {
     "languageId": "javascript"
    }
   },
   "outputs": [],
   "source": [
    "function merge(intervals: number[][]): number[][] {\n",
    "    intervals.sort((a, b) => a[0] - b[0]);\n",
    "\n",
    "    const merged: number[][] = [intervals[0]];\n",
    "\n",
    "    for(let i = 1; i < intervals.length; i++) {\n",
    "        const current = intervals[i];\n",
    "        const last = merged[merged.length - 1];\n",
    "\n",
    "        if (current[0] <= last[1]) {\n",
    "            last[1] = Math.max(last[1], current[1]);\n",
    "        } else {\n",
    "            merged.push(current);\n",
    "        }\n",
    "    }\n",
    "\n",
    "    return merged;\n",
    "}"
   ]
  },
  {
   "cell_type": "code",
   "execution_count": null,
   "metadata": {
    "vscode": {
     "languageId": "javascript"
    }
   },
   "outputs": [],
   "source": [
    "function insert(intervals: number[][], newInterval: number[]): number[][] {\n",
    "    const result: number[][] = [];\n",
    "    let i = 0;\n",
    "\n",
    "    // Add to result all the intervals ending before newInterval starts.\n",
    "    while (i < intervals.length && intervals[i][1] < newInterval[0]) {\n",
    "        result.push(intervals[i]);\n",
    "        i++;\n",
    "    }\n",
    "\n",
    "    // Merge all overlapping intervals to one considering newInterval.\n",
    "    while (i < intervals.length && intervals[i][0] <= newInterval[1]) {\n",
    "        newInterval[0] = Math.min(newInterval[0], intervals[i][0]);\n",
    "        newInterval[1] = Math.max(newInterval[1], intervals[i][1]);\n",
    "        i++;\n",
    "    }\n",
    "\n",
    "    // Add the union of intervals we got.\n",
    "    result.push(newInterval);\n",
    "\n",
    "    // Add all the rest.\n",
    "    while (i < intervals.length) {\n",
    "        result.push(intervals[i]);\n",
    "        i++;\n",
    "    }\n",
    "\n",
    "    return result;\n",
    "}"
   ]
  },
  {
   "cell_type": "code",
   "execution_count": null,
   "metadata": {
    "vscode": {
     "languageId": "javascript"
    }
   },
   "outputs": [],
   "source": [
    "function findMinArrowShots(points: number[][]): number {\n",
    "    if (points.length === 0) {\n",
    "        return 0;\n",
    "    }\n",
    "\n",
    "    // Sort by end\n",
    "    points.sort((a, b) => a[1] - b[1]);\n",
    "\n",
    "    let arrows = 1;\n",
    "    let arrowPos = points[0][1];\n",
    "    for (let i = 1; i < points.length; i++) {\n",
    "        if (points[i][0] <= arrowPos) {\n",
    "            continue; // This balloon is already covered by last shot arrow\n",
    "        } else {\n",
    "            arrows++;\n",
    "            arrowPos = points[i][1]; // Shoot another arrow for this balloon\n",
    "        }\n",
    "    }\n",
    "\n",
    "    return arrows;\n",
    "}"
   ]
  },
  {
   "cell_type": "code",
   "execution_count": null,
   "metadata": {
    "vscode": {
     "languageId": "javascript"
    }
   },
   "outputs": [],
   "source": [
    "function simplifyPath(path: string): string {\n",
    "    const stack: string[] = [];\n",
    "    const directories: string[] = path.split('/');\n",
    "\n",
    "    for (let dir of directories) {\n",
    "        if (dir === \"\" || dir === \".\") {\n",
    "            continue;\n",
    "        } else if (dir === \"..\") {\n",
    "            if (stack.length > 0) {\n",
    "                stack.pop();\n",
    "            }\n",
    "        } else {\n",
    "            stack.push(dir);\n",
    "        }\n",
    "    }\n",
    "\n",
    "    return \"/\" + stack.join('/');\n",
    "}"
   ]
  },
  {
   "cell_type": "code",
   "execution_count": null,
   "metadata": {
    "vscode": {
     "languageId": "javascript"
    }
   },
   "outputs": [],
   "source": [
    "class MinStack {\n",
    "    stack: number[];\n",
    "    minStack: number[];\n",
    "\n",
    "    constructor() {\n",
    "        this.stack = [];\n",
    "        this.minStack = [];\n",
    "    }\n",
    "\n",
    "    push(val: number): void {\n",
    "        this.stack.push(val);\n",
    "        if (this.minStack.length === 0 || val <= this.minStack[this.minStack.length - 1]) {\n",
    "            this.minStack.push(val);\n",
    "        }\n",
    "    }\n",
    "\n",
    "    pop(): void {\n",
    "        let poppedValue = this.stack.pop();\n",
    "        if (poppedValue === this.minStack[this.minStack.length - 1]) {\n",
    "            this.minStack.pop();\n",
    "        }\n",
    "    }\n",
    "\n",
    "    top(): number {\n",
    "        return this.stack[this.stack.length - 1];\n",
    "    }\n",
    "\n",
    "    getMin(): number {\n",
    "        return this.minStack[this.minStack.length - 1];\n",
    "    }\n",
    "}"
   ]
  },
  {
   "cell_type": "code",
   "execution_count": null,
   "metadata": {
    "vscode": {
     "languageId": "javascript"
    }
   },
   "outputs": [],
   "source": [
    "function evalRPN(tokens: string[]): number {\n",
    "    let stack: number[] = [];\n",
    "        \n",
    "    for (let token of tokens) {\n",
    "        if (!isNaN(Number(token))) {\n",
    "            stack.push(Number(token));\n",
    "            continue;\n",
    "        }\n",
    "            \n",
    "        let number2 = stack.pop();\n",
    "        let number1 = stack.pop();\n",
    "        \n",
    "        switch (token) {\n",
    "            case '+':\n",
    "                stack.push(number1 + number2);\n",
    "                break;\n",
    "            case '-':\n",
    "                stack.push(number1 - number2);\n",
    "                break;\n",
    "            case '*':\n",
    "                stack.push(number1 * number2);\n",
    "                break;\n",
    "            case '/':\n",
    "                stack.push(number1 / number2 >= 0 ? Math.floor(number1 / number2) : Math.ceil(number1 / number2));\n",
    "                break;\n",
    "        }\n",
    "    }\n",
    "    \n",
    "    return stack[0];\n",
    "}"
   ]
  },
  {
   "cell_type": "code",
   "execution_count": null,
   "metadata": {
    "vscode": {
     "languageId": "javascript"
    }
   },
   "outputs": [],
   "source": [
    "class ListNode {\n",
    "    val: number;\n",
    "    next: ListNode | null;\n",
    "\n",
    "    constructor(val?: number, next?: ListNode | null) {\n",
    "        this.val = (val===undefined ? 0 : val);\n",
    "        this.next = (next===undefined ? null : next);\n",
    "    }\n",
    "}\n",
    "\n",
    "function hasCycle(head: ListNode | null): boolean {\n",
    "    if (head === null || head.next === null) {\n",
    "        return false;\n",
    "    }\n",
    "    \n",
    "    let slow = head;\n",
    "    let fast = head.next;\n",
    "    \n",
    "    while (slow !== fast) {\n",
    "        if (fast === null || fast.next === null) {\n",
    "            return false;\n",
    "        }\n",
    "        \n",
    "        slow = slow.next;\n",
    "        fast = fast.next.next;\n",
    "    }\n",
    "    \n",
    "    return true;\n",
    "}"
   ]
  },
  {
   "cell_type": "code",
   "execution_count": null,
   "metadata": {
    "vscode": {
     "languageId": "javascript"
    }
   },
   "outputs": [],
   "source": [
    "function addTwoNumbers(l1: ListNode | null, l2: ListNode | null): ListNode | null {\n",
    "    let dummyHead = new ListNode(0);\n",
    "    let p = l1, q = l2, current = dummyHead;\n",
    "    let carry = 0;\n",
    "    \n",
    "    while (p !== null || q !== null) {\n",
    "        let x = (p !== null) ? p.val : 0;\n",
    "        let y = (q !== null) ? q.val : 0;\n",
    "        let sum = carry + x + y;\n",
    "        carry = Math.floor(sum / 10);\n",
    "        \n",
    "        current.next = new ListNode(sum % 10);\n",
    "        current = current.next;\n",
    "        \n",
    "        if (p !== null) p = p.next;\n",
    "        if (q !== null) q = q.next;\n",
    "    }\n",
    "    \n",
    "    if (carry > 0) {\n",
    "        current.next = new ListNode(carry);\n",
    "    }\n",
    "    \n",
    "    return dummyHead.next;\n",
    "}"
   ]
  },
  {
   "cell_type": "code",
   "execution_count": null,
   "metadata": {
    "vscode": {
     "languageId": "javascript"
    }
   },
   "outputs": [],
   "source": [
    "function mergeTwoLists(l1: ListNode | null, l2: ListNode | null): ListNode | null {\n",
    "    let dummyHead = new ListNode(0);\n",
    "    let current = dummyHead;\n",
    "    \n",
    "    while (l1 !== null && l2 !== null) {\n",
    "        if (l1.val <= l2.val) {\n",
    "            current.next = l1;\n",
    "            l1 = l1.next;\n",
    "        } else {\n",
    "            current.next = l2;\n",
    "            l2 = l2.next;\n",
    "        }\n",
    "        current = current.next;\n",
    "    }\n",
    "    \n",
    "    current.next = l1 !== null ? l1 : l2;\n",
    "    \n",
    "    return dummyHead.next;\n",
    "}"
   ]
  },
  {
   "cell_type": "code",
   "execution_count": null,
   "metadata": {
    "vscode": {
     "languageId": "javascript"
    }
   },
   "outputs": [],
   "source": [
    "class ListNode {\n",
    "    val: number;\n",
    "    next: ListNode | null;\n",
    "\n",
    "    constructor(val?: number, next?: ListNode | null) {\n",
    "        this.val = (val===undefined ? 0 : val);\n",
    "        this.next = (next===undefined ? null : next);\n",
    "    }\n",
    "}\n",
    "\n",
    "function reverseBetween(head: ListNode | null, left: number, right: number): ListNode | null {\n",
    "    if (head === null || left === right) return head;\n",
    "    \n",
    "    let dummyNode = new ListNode(-1);\n",
    "    dummyNode.next = head;\n",
    "    let prev = dummyNode;\n",
    "    \n",
    "    for (let i = 0; i < left - 1; ++i) {\n",
    "        prev = prev.next;\n",
    "    }\n",
    "    \n",
    "    let current = prev.next;\n",
    "    \n",
    "    for (let i = 0; i < right - left; ++i) {\n",
    "        let next = current.next;\n",
    "        current.next = next.next;\n",
    "        next.next = prev.next;\n",
    "        prev.next = next;\n",
    "    }\n",
    "\n",
    "    return dummyNode.next;\n",
    "}"
   ]
  },
  {
   "cell_type": "code",
   "execution_count": null,
   "metadata": {
    "vscode": {
     "languageId": "javascript"
    }
   },
   "outputs": [],
   "source": [
    "class ListNode {\n",
    "    val: number;\n",
    "    next: ListNode | null;\n",
    "\n",
    "    constructor(val?: number, next?: ListNode | null) {\n",
    "        this.val = (val===undefined ? 0 : val);\n",
    "        this.next = (next===undefined ? null : next);\n",
    "    }\n",
    "}\n",
    "\n",
    "function reverseKGroup(head: ListNode | null, k: number): ListNode | null {\n",
    "    let count = 0;\n",
    "    let node = head;\n",
    "    // First, check if there are at least k nodes in the list\n",
    "    while (node !== null && count < k) {\n",
    "        node = node.next;\n",
    "        count++;\n",
    "    }\n",
    "\n",
    "    // If there are k nodes, reverse them\n",
    "    if (count === k) {\n",
    "        let reversedHead = reverseList(head, k);\n",
    "\n",
    "        // Now head is the last node after the reversal. Its next node should be the head of the reversed next k nodes.\n",
    "        head.next = reverseKGroup(node, k);\n",
    "\n",
    "        return reversedHead;\n",
    "    }\n",
    "\n",
    "    return head;\n",
    "}\n",
    "\n",
    "// This function reverses the first k nodes in the list and returns the new head after reversal.\n",
    "function reverseList(head: ListNode | null, k: number): ListNode | null {\n",
    "    let newHead: ListNode | null = null;\n",
    "    let node = head;\n",
    "\n",
    "    while (k > 0) {\n",
    "        let nextNode = node.next;\n",
    "        node.next = newHead;\n",
    "        newHead = node;\n",
    "        node = nextNode;\n",
    "        k--;\n",
    "    }\n",
    "\n",
    "    return newHead;\n",
    "}"
   ]
  },
  {
   "cell_type": "code",
   "execution_count": null,
   "metadata": {
    "vscode": {
     "languageId": "javascript"
    }
   },
   "outputs": [],
   "source": [
    "class ListNode {\n",
    "    val: number;\n",
    "    next: ListNode | null;\n",
    "\n",
    "    constructor(val?: number, next?: ListNode | null) {\n",
    "        this.val = (val===undefined ? 0 : val);\n",
    "        this.next = (next===undefined ? null : next);\n",
    "    }\n",
    "}\n",
    "\n",
    "function removeNthFromEnd(head: ListNode | null, n: number): ListNode | null {\n",
    "    let dummyHead = new ListNode(0);\n",
    "    dummyHead.next = head;\n",
    "    \n",
    "    let first = dummyHead;\n",
    "    let second = dummyHead;\n",
    "    \n",
    "    // Advances first pointer so that the gap between first and second is n nodes apart\n",
    "    for (let i = 1; i <= n + 1; i++) {\n",
    "        first = first.next;\n",
    "    }\n",
    "    \n",
    "    // Move first to the end, maintaining the gap\n",
    "    while (first !== null) {\n",
    "        first = first.next;\n",
    "        second = second.next;\n",
    "    }\n",
    "    \n",
    "    second.next = second.next.next; // Skip the nth node\n",
    "    \n",
    "    return dummyHead.next; // The head node was never changed and thus can be returned safely\n",
    "}"
   ]
  },
  {
   "cell_type": "code",
   "execution_count": null,
   "metadata": {
    "vscode": {
     "languageId": "javascript"
    }
   },
   "outputs": [],
   "source": [
    "class ListNode {\n",
    "    val: number;\n",
    "    next: ListNode | null;\n",
    "\n",
    "    constructor(val?: number, next?: ListNode | null) {\n",
    "        this.val = (val===undefined ? 0 : val);\n",
    "        this.next = (next===undefined ? null : next);\n",
    "    }\n",
    "}\n",
    "\n",
    "function deleteDuplicates(head: ListNode | null): ListNode | null {\n",
    "    let dummyHead = new ListNode(0);\n",
    "    dummyHead.next = head;\n",
    "    \n",
    "    let prev = dummyHead;\n",
    "    while (head !== null) {\n",
    "        if (head.next !== null && head.val === head.next.val) {\n",
    "            // Skip nodes with the same value as current node\n",
    "            while (head.next !== null && head.val === head.next.val) {\n",
    "                head = head.next;\n",
    "            }\n",
    "            // Connect the previous unique node (prev) with the next unique node\n",
    "            prev.next = head.next;\n",
    "        } else {\n",
    "            // If current node is not a duplicate, move the prev pointer\n",
    "            prev = prev.next;\n",
    "        }\n",
    "        head = head.next;\n",
    "    }\n",
    "    \n",
    "    return dummyHead.next;\n",
    "}"
   ]
  },
  {
   "cell_type": "code",
   "execution_count": null,
   "metadata": {
    "vscode": {
     "languageId": "javascript"
    }
   },
   "outputs": [],
   "source": [
    "function rotateRight(head: ListNode | null, k: number): ListNode | null {\n",
    "    if (head === null || head.next === null) {\n",
    "        return head;\n",
    "    }\n",
    "\n",
    "    // Count the nodes in the list\n",
    "    let n = 1;\n",
    "    let oldTail = head;\n",
    "    while (oldTail.next !== null) {\n",
    "        oldTail = oldTail.next;\n",
    "        n++;\n",
    "    }\n",
    "\n",
    "    // Make the list a circular list\n",
    "    oldTail.next = head;\n",
    "\n",
    "    // Find the new head and new tail - n - k % n is the number of paced steps from head to new head\n",
    "    let newHeadPrev = head;\n",
    "    for (let i = 0; i < n - (k % n) - 1; i++) {\n",
    "        newHeadPrev = newHeadPrev.next;\n",
    "    }\n",
    "    let newHead = newHeadPrev.next;\n",
    "\n",
    "    // Break the circle\n",
    "    newHeadPrev.next = null;\n",
    "    \n",
    "    return newHead;\n",
    "}"
   ]
  },
  {
   "cell_type": "code",
   "execution_count": null,
   "metadata": {
    "vscode": {
     "languageId": "javascript"
    }
   },
   "outputs": [],
   "source": [
    "class ListNode {\n",
    "    val: number;\n",
    "    next: ListNode | null;\n",
    "\n",
    "    constructor(val?: number, next?: ListNode | null) {\n",
    "        this.val = (val===undefined ? 0 : val);\n",
    "        this.next = (next===undefined ? null : next);\n",
    "    }\n",
    "}\n",
    "\n",
    "function partition(head: ListNode | null, x: number): ListNode | null {\n",
    "    let lessHead = new ListNode(0);\n",
    "    let moreHead = new ListNode(0);\n",
    "\n",
    "    let less = lessHead;\n",
    "    let more = moreHead;\n",
    "\n",
    "    while (head !== null) {\n",
    "        if (head.val < x) {\n",
    "            less.next = head;\n",
    "            less = less.next;\n",
    "        } else {\n",
    "            more.next = head;\n",
    "            more = more.next;\n",
    "        }\n",
    "        head = head.next;\n",
    "    }\n",
    "    // Do not forget to cut off the tail of 'more' list, or the end of 'less' list will link to the original node in list.\n",
    "    more.next = null;\n",
    "    less.next = moreHead.next;\n",
    "    \n",
    "    return lessHead.next;\n",
    "}"
   ]
  },
  {
   "attachments": {},
   "cell_type": "markdown",
   "metadata": {},
   "source": [
    "class DLinkedNode {\n",
    "    key: number;\n",
    "    value: number;\n",
    "    prev: DLinkedNode | null;\n",
    "    next: DLinkedNode | null;\n",
    "    constructor() {\n",
    "        this.key = 0;\n",
    "        this.value = 0;\n",
    "        this.prev = null;\n",
    "        this.next = null;\n",
    "    }\n",
    "}\n",
    "\n",
    "class LRUCache {\n",
    "    capacity: number;\n",
    "    size: number;\n",
    "    cache: Map<number, DLinkedNode>\n",
    "    head: DLinkedNode;\n",
    "    tail: DLinkedNode;\n",
    "\n",
    "    constructor(capacity: number) {\n",
    "        this.size = 0;\n",
    "        this.capacity = capacity;\n",
    "        this.head = new DLinkedNode();\n",
    "        this.tail = new DLinkedNode();\n",
    "\n",
    "        this.head.next = this.tail;\n",
    "        this.tail.prev = this.head;\n",
    "\n",
    "        this.cache = new Map<number, DLinkedNode>();\n",
    "    }\n",
    "\n",
    "    get(key: number): number {\n",
    "        let node = this.cache.get(key);\n",
    "        if (node === undefined) return -1;\n",
    "\n",
    "        // move the accessed node to the head;\n",
    "        this.moveToHead(node);\n",
    "        return node.value;\n",
    "    }\n",
    "\n",
    "    put(key: number, value: number): void {\n",
    "        let node = this.cache.get(key);\n",
    "\n",
    "        if(!node) {\n",
    "            node = new DLinkedNode();\n",
    "            node.key = key;\n",
    "            node.value = value;\n",
    "\n",
    "            this.cache.set(key, node);\n",
    "            this.addNode(node);\n",
    "\n",
    "            ++this.size;\n",
    "\n",
    "            if (this.size > this.capacity) {\n",
    "                // pop the tail\n",
    "                let tail = this.popTail();\n",
    "                this.cache.delete(tail.key);\n",
    "                --this.size;\n",
    "            }\n",
    "        } else {\n",
    "            // update the value\n",
    "            node.value = value;\n",
    "            this.moveToHead(node);\n",
    "        }\n",
    "    }\n",
    "\n",
    "    addNode(node: DLinkedNode): void {\n",
    "        // Always add the new node right after head\n",
    "        node.prev = this.head;\n",
    "        node.next = this.head.next;\n",
    "\n",
    "        this.head.next.prev = node;\n",
    "        this.head.next = node;\n",
    "    }\n",
    "\n",
    "    removeNode(node: DLinkedNode): void {\n",
    "        let prev = node.prev;\n",
    "        let next = node.next;\n",
    "\n",
    "        prev.next = next;\n",
    "        next.prev = prev;\n",
    "    }\n",
    "\n",
    "    moveToHead(node: DLinkedNode): void {\n",
    "        this.removeNode(node);\n",
    "        this.addNode(node);\n",
    "    }\n",
    "\n",
    "    popTail(): DLinkedNode {\n",
    "        let res = this.tail.prev;\n",
    "        this.removeNode(res);\n",
    "        return res;\n",
    "    }\n",
    "}"
   ]
  },
  {
   "cell_type": "code",
   "execution_count": null,
   "metadata": {
    "vscode": {
     "languageId": "javascript"
    }
   },
   "outputs": [],
   "source": [
    "class TreeNode {\n",
    "    val: number;\n",
    "    left: TreeNode | null;\n",
    "    right: TreeNode | null;\n",
    "    \n",
    "    constructor(val?: number, left?: TreeNode | null, right?: TreeNode | null) {\n",
    "        this.val = (val === undefined ? 0 : val);\n",
    "        this.left = (left === undefined ? null : left);\n",
    "        this.right = (right === undefined ? null : right);\n",
    "    }\n",
    "}\n",
    "\n",
    "function maxDepth(root: TreeNode | null): number {\n",
    "    if (root === null) {\n",
    "        return 0;\n",
    "    } else {\n",
    "        const leftDepth = maxDepth(root.left);\n",
    "        const rightDepth = maxDepth(root.right);\n",
    "        return Math.max(leftDepth, rightDepth) + 1;\n",
    "    }\n",
    "}"
   ]
  },
  {
   "cell_type": "code",
   "execution_count": null,
   "metadata": {
    "vscode": {
     "languageId": "javascript"
    }
   },
   "outputs": [],
   "source": [
    "class TreeNode {\n",
    "    val: number;\n",
    "    left: TreeNode | null;\n",
    "    right: TreeNode | null;\n",
    "    \n",
    "    constructor(val?: number, left?: TreeNode | null, right?: TreeNode | null) {\n",
    "        this.val = (val === undefined ? 0 : val);\n",
    "        this.left = (left === undefined ? null : left);\n",
    "        this.right = (right === undefined ? null : right);\n",
    "    }\n",
    "}\n",
    "\n",
    "function isSameTree(p: TreeNode | null, q: TreeNode | null): boolean {\n",
    "    if (p === null && q === null) {\n",
    "        return true;\n",
    "    } else if (p === null || q === null) {\n",
    "        return false;\n",
    "    } else if (p.val !== q.val) {\n",
    "        return false;\n",
    "    } else {\n",
    "        return isSameTree(p.left, q.left) && isSameTree(p.right, q.right);\n",
    "    }\n",
    "}"
   ]
  },
  {
   "cell_type": "code",
   "execution_count": null,
   "metadata": {
    "vscode": {
     "languageId": "javascript"
    }
   },
   "outputs": [],
   "source": [
    "class TreeNode {\n",
    "    val: number;\n",
    "    left: TreeNode | null;\n",
    "    right: TreeNode | null;\n",
    "\n",
    "    constructor(val?: number, left?: TreeNode | null, right?: TreeNode | null) {\n",
    "        this.val = val === undefined ? 0 : val;\n",
    "        this.left = left === undefined ? null : left;\n",
    "        this.right = right === undefined ? null : right;\n",
    "    }\n",
    "}\n",
    "\n",
    "function invertTree(root: TreeNode | null): TreeNode | null {\n",
    "    if (root === null) {\n",
    "        return null;\n",
    "    }\n",
    "\n",
    "    [root.left, root.right] = [root.right, root.left];\n",
    "    invertTree(root.left);\n",
    "    invertTree(root.right);\n",
    "\n",
    "    return root;\n",
    "}"
   ]
  },
  {
   "cell_type": "code",
   "execution_count": null,
   "metadata": {
    "vscode": {
     "languageId": "javascript"
    }
   },
   "outputs": [],
   "source": [
    "class TreeNode {\n",
    "    val: number;\n",
    "    left: TreeNode | null;\n",
    "    right: TreeNode | null;\n",
    "\n",
    "    constructor(val?: number, left?: TreeNode | null, right?: TreeNode | null) {\n",
    "        this.val = val === undefined ? 0 : val;\n",
    "        this.left = left === undefined ? null : left;\n",
    "        this.right = right === undefined ? null : right;\n",
    "    }\n",
    "}\n",
    "\n",
    "function checkSymmetry(p: TreeNode | null, q: TreeNode | null): boolean {\n",
    "    if (!p && !q) return true;\n",
    "    if (!p || !q) return false;\n",
    "\n",
    "    return p.val === q.val && \n",
    "        checkSymmetry(p.left, q.right) && \n",
    "        checkSymmetry(p.right, q.left);\n",
    "}\n",
    "\n",
    "function isSymmetric(root: TreeNode | null): boolean {\n",
    "    return checkSymmetry(root, root);\n",
    "}"
   ]
  },
  {
   "cell_type": "code",
   "execution_count": null,
   "metadata": {
    "vscode": {
     "languageId": "javascript"
    }
   },
   "outputs": [],
   "source": [
    "class TreeNode {\n",
    "    val: number;\n",
    "    left: TreeNode | null;\n",
    "    right: TreeNode | null;\n",
    "\n",
    "    constructor(val?: number, left?: TreeNode | null, right?: TreeNode | null) {\n",
    "        this.val = (val === undefined ? 0 : val);\n",
    "        this.left = (left === undefined ? null : left);\n",
    "        this.right = (right === undefined ? null : right);\n",
    "    }\n",
    "}\n",
    "\n",
    "function buildTree(preorder: number[], inorder: number[]): TreeNode | null {\n",
    "    // Creating a hash map for the inorder array\n",
    "    let indexMap = new Map();\n",
    "    for (let i=0; i<inorder.length; i++) {\n",
    "        indexMap.set(inorder[i], i);\n",
    "    }\n",
    "    let preIndex = 0;\n",
    "\n",
    "    function helper(inLeft = 0, inRight = inorder.length){\n",
    "        if (inLeft === inRight) return null;\n",
    "\n",
    "        let rootVal = preorder[preIndex];\n",
    "        let root = new TreeNode(rootVal);\n",
    "\n",
    "        let index = indexMap.get(rootVal);\n",
    "\n",
    "        preIndex++;\n",
    "        root.left = helper(inLeft, index);\n",
    "        root.right = helper(index + 1, inRight);\n",
    "        return root;\n",
    "    }\n",
    "\n",
    "    return helper();\n",
    "}"
   ]
  },
  {
   "cell_type": "code",
   "execution_count": null,
   "metadata": {
    "vscode": {
     "languageId": "javascript"
    }
   },
   "outputs": [],
   "source": [
    "class TreeNode {\n",
    "    val: number;\n",
    "    left: TreeNode | null;\n",
    "    right: TreeNode | null;\n",
    "\n",
    "    constructor(val?: number, left?: TreeNode | null, right?: TreeNode | null) {\n",
    "        this.val = (val===undefined ? 0 : val)\n",
    "        this.left = (left===undefined ? null : left)\n",
    "        this.right = (right===undefined ? null : right)\n",
    "    }\n",
    "}\n",
    "\n",
    "function buildTree(inorder: number[], postorder: number[]): TreeNode | null {\n",
    "    let indexMap = new Map();\n",
    "    for(let i = 0; i<inorder.length; i++) {\n",
    "        indexMap.set(inorder[i], i);\n",
    "    }\n",
    "    \n",
    "    let postIndex = postorder.length - 1;\n",
    "    \n",
    "    function helper(inLeft = 0, inRight = inorder.length) {\n",
    "        if (inLeft === inRight) return null;\n",
    "        \n",
    "        let rootVal = postorder[postIndex];\n",
    "        let root = new TreeNode(rootVal);\n",
    "\n",
    "        let index = indexMap.get(rootVal);\n",
    "        \n",
    "        postIndex--;\n",
    "        root.right = helper(index + 1, inRight);\n",
    "        root.left = helper(inLeft, index);\n",
    "        \n",
    "        return root;\n",
    "    }\n",
    "\n",
    "    return helper();\n",
    "}"
   ]
  },
  {
   "cell_type": "code",
   "execution_count": null,
   "metadata": {
    "vscode": {
     "languageId": "javascript"
    }
   },
   "outputs": [],
   "source": [
    "/**\n",
    " * Definition for Node.\n",
    " * class Node {\n",
    " *     val: number\n",
    " *     left: Node | null\n",
    " *     right: Node | null\n",
    " *     next: Node | null\n",
    " *     constructor(val?: number, left?: Node, right?: Node, next?: Node) {\n",
    " *         this.val = (val===undefined ? 0 : val)\n",
    " *         this.left = (left===undefined ? null : left)\n",
    " *         this.right = (right===undefined ? null : right)\n",
    " *         this.next = (next===undefined ? null : next)\n",
    " *     }\n",
    " * }\n",
    " */\n",
    "\n",
    "function connect(root: Node | null): Node | null {\n",
    "    if (!root) return null;\n",
    "\n",
    "    let currentLevelStart = root; // Begin with root node\n",
    "\n",
    "    while(currentLevelStart) {    // Continue till we have nodes at current level\n",
    "        let current = currentLevelStart;\n",
    "        let prev: Node | null = null;\n",
    "\n",
    "        currentLevelStart = null;\n",
    "\n",
    "        // Loop through each node at the current level\n",
    "        while (current) {\n",
    "            // Process left child\n",
    "            if (current.left) {\n",
    "                if (prev) {\n",
    "                    prev.next = current.left;\n",
    "                }\n",
    "                else {\n",
    "                    // If currentLevelStart is still null, assign it to current node's left child\n",
    "                    currentLevelStart = current.left;\n",
    "                }\n",
    "                prev = current.left;\n",
    "            }\n",
    "\n",
    "            // Process right child\n",
    "            if (current.right) {\n",
    "                if (prev) {\n",
    "                    prev.next = current.right;\n",
    "                }\n",
    "                else {\n",
    "                    currentLevelStart = current.right;\n",
    "                }\n",
    "                prev = current.right;\n",
    "            }\n",
    "\n",
    "            // Move to the next node\n",
    "            current = current.next;\n",
    "        }\n",
    "    }\n",
    "    return root;\n",
    "}"
   ]
  },
  {
   "cell_type": "code",
   "execution_count": null,
   "metadata": {
    "vscode": {
     "languageId": "javascript"
    }
   },
   "outputs": [],
   "source": [
    "/**\n",
    " * Definition for a binary tree node.\n",
    " * class TreeNode {\n",
    " *     val: number\n",
    " *     left: TreeNode | null\n",
    " *     right: TreeNode | null\n",
    " *     constructor(val?: number, left?: TreeNode | null, right?: TreeNode | null) {\n",
    " *         this.val = (val===undefined ? 0 : val)\n",
    " *         this.left = (left===undefined ? null : left)\n",
    " *         this.right = (right===undefined ? null : right)\n",
    " *     }\n",
    " * }\n",
    " */\n",
    "\n",
    "/**\n",
    " Do not return anything, modify root in-place instead.\n",
    " */\n",
    "\n",
    " function flatten(root: TreeNode | null): void {\n",
    "    if (root === null) {\n",
    "        return;\n",
    "    }\n",
    "\n",
    "    // Hold the original right child.\n",
    "    const rightNode = root.right;\n",
    "\n",
    "    // If root node has left child, then we need to find the rightmost leaf of the left subtree.\n",
    "    if (root.left !== null) {\n",
    "        // Make left child the new right child.\n",
    "        root.right = root.left;\n",
    "        root.left = null; // Nullify left child.\n",
    "        \n",
    "        // Find the rightmost leaf of the (new) right subtree.\n",
    "        let temp: TreeNode | null = root.right;\n",
    "        while (temp.right !== null) {\n",
    "            temp = temp.right;\n",
    "        }\n",
    "\n",
    "        // The rightmost leaf of the (new) right subtree would be the parent of initial right child.\n",
    "        temp.right = rightNode;\n",
    "    }\n",
    "\n",
    "    // Recursively flatten the remaining tree.\n",
    "    flatten(root.right);\n",
    "}"
   ]
  },
  {
   "cell_type": "code",
   "execution_count": null,
   "metadata": {
    "vscode": {
     "languageId": "javascript"
    }
   },
   "outputs": [],
   "source": [
    "class TreeNode {\n",
    "    val: number;\n",
    "    left: TreeNode | null;\n",
    "    right: TreeNode | null;\n",
    "    constructor(val?: number, left?: TreeNode | null, right?: TreeNode | null) {\n",
    "        this.val = (val===undefined ? 0 : val);\n",
    "        this.left = (left===undefined ? null : left);\n",
    "        this.right = (right===undefined ? null : right);\n",
    "    }\n",
    "}\n",
    "\n",
    "function hasPathSum(root: TreeNode | null, targetSum: number): boolean {\n",
    "    if(root === null) return false;\n",
    "\n",
    "    // Check if current node is a leaf node, and whether its value equals to targetSum\n",
    "    if(root.left === null && root.right === null && root.val === targetSum) return true;\n",
    "\n",
    "    // Subtract the node value from the targetSum and make a recursive call to the left and right child.\n",
    "    const remainingSum = targetSum - root.val;\n",
    "    return hasPathSum(root.left, remainingSum) || hasPathSum(root.right, remainingSum);\n",
    "}"
   ]
  },
  {
   "cell_type": "code",
   "execution_count": null,
   "metadata": {
    "vscode": {
     "languageId": "javascript"
    }
   },
   "outputs": [],
   "source": [
    "/**\n",
    " * Definition for a binary tree node.\n",
    " * class TreeNode {\n",
    " *     val: number\n",
    " *     left: TreeNode | null\n",
    " *     right: TreeNode | null\n",
    " *     constructor(val?: number, left?: TreeNode | null, right?: TreeNode | null) {\n",
    " *         this.val = (val===undefined ? 0 : val)\n",
    " *         this.left = (left===undefined ? null : left)\n",
    " *         this.right = (right===undefined ? null : right)\n",
    " *     }\n",
    " * }\n",
    " */\n",
    "\n",
    "\n",
    "function sumNumbers(root: TreeNode | null): number {\n",
    "    return dfs(root, 0);\n",
    "  }\n",
    "  \n",
    "  function dfs(node: TreeNode | null, sum: number): number {\n",
    "    if(!node) return 0;\n",
    "    \n",
    "    // Calculate the current number\n",
    "    const value = sum * 10 + node.val;\n",
    "    \n",
    "    // If leaf node is reached, return current number\n",
    "    if(!node.left && !node.right) return value;\n",
    "  \n",
    "    // Traverse left and right subtrees\n",
    "    return dfs(node.left, value) + dfs(node.right, value);\n",
    "  }"
   ]
  },
  {
   "cell_type": "code",
   "execution_count": null,
   "metadata": {
    "vscode": {
     "languageId": "javascript"
    }
   },
   "outputs": [],
   "source": [
    "/**\n",
    " * Definition for a binary tree node.\n",
    " * class TreeNode {\n",
    " *     val: number\n",
    " *     left: TreeNode | null\n",
    " *     right: TreeNode | null\n",
    " *     constructor(val?: number, left?: TreeNode | null, right?: TreeNode | null) {\n",
    " *         this.val = (val===undefined ? 0 : val)\n",
    " *         this.left = (left===undefined ? null : left)\n",
    " *         this.right = (right===undefined ? null : right)\n",
    " *     }\n",
    " * }\n",
    " */\n",
    "\n",
    "function averageOfLevels(root: TreeNode | null): number[] {\n",
    "    let result: number[] = [];\n",
    "    let queue: TreeNode[] = [];\n",
    "  \n",
    "    if (root !== null) queue.push(root);\n",
    "  \n",
    "    while(queue.length > 0) {\n",
    "        let sum = 0;\n",
    "        let count = 0;\n",
    "        let tempQueue = [];\n",
    "  \n",
    "        while(queue.length > 0) {\n",
    "            let n = queue.shift()!;\n",
    "            sum += n.val;\n",
    "            count++;\n",
    "            if (n.left) tempQueue.push(n.left);\n",
    "            if (n.right) tempQueue.push(n.right);\n",
    "        }\n",
    "  \n",
    "        queue = tempQueue;\n",
    "        result.push(sum / count);\n",
    "    }\n",
    "  \n",
    "    return result;\n",
    "  }"
   ]
  },
  {
   "cell_type": "code",
   "execution_count": null,
   "metadata": {
    "vscode": {
     "languageId": "javascript"
    }
   },
   "outputs": [],
   "source": [
    "/**\n",
    " * Definition for a binary tree node.\n",
    " * class TreeNode {\n",
    " *     val: number\n",
    " *     left: TreeNode | null\n",
    " *     right: TreeNode | null\n",
    " *     constructor(val?: number, left?: TreeNode | null, right?: TreeNode | null) {\n",
    " *         this.val = (val===undefined ? 0 : val)\n",
    " *         this.left = (left===undefined ? null : left)\n",
    " *         this.right = (right===undefined ? null : right)\n",
    " *     }\n",
    " * }\n",
    " */\n",
    "\n",
    "function levelOrder(root: TreeNode | null): number[][] {\n",
    "    let result: number[][] = [];\n",
    "  \n",
    "    if(root === null) return result;\n",
    "  \n",
    "    let queue: TreeNode[] = [];\n",
    "    queue.push(root);\n",
    "  \n",
    "    while (queue.length > 0) {\n",
    "      let currentLevel: number[] = [];\n",
    "      let levelSize = queue.length;\n",
    "  \n",
    "      for(let i = 0; i < levelSize; i++) {\n",
    "        let currentNode = queue.shift()!; \n",
    "  \n",
    "        currentLevel.push(currentNode.val); \n",
    "  \n",
    "        if (currentNode.left !== null) queue.push(currentNode.left);\n",
    "        if (currentNode.right !== null) queue.push(currentNode.right);\n",
    "      }\n",
    "  \n",
    "      result.push(currentLevel);\n",
    "    }\n",
    "  \n",
    "    return result;\n",
    "  }"
   ]
  },
  {
   "cell_type": "code",
   "execution_count": null,
   "metadata": {
    "vscode": {
     "languageId": "javascript"
    }
   },
   "outputs": [],
   "source": [
    "/**\n",
    " * Definition for a binary tree node.\n",
    " * class TreeNode {\n",
    " *     val: number\n",
    " *     left: TreeNode | null\n",
    " *     right: TreeNode | null\n",
    " *     constructor(val?: number, left?: TreeNode | null, right?: TreeNode | null) {\n",
    " *         this.val = (val===undefined ? 0 : val)\n",
    " *         this.left = (left===undefined ? null : left)\n",
    " *         this.right = (right===undefined ? null : right)\n",
    " *     }\n",
    " * }\n",
    " */\n",
    "\n",
    "function zigzagLevelOrder(root: TreeNode | null): number[][] {\n",
    "    let result: number[][] = [];\n",
    "  \n",
    "    if (root === null) return result;\n",
    "  \n",
    "    let queue: TreeNode[] = [];\n",
    "    queue.push(root);\n",
    "    let isReverse = false;\n",
    "  \n",
    "    while (queue.length > 0) {\n",
    "      let currentLevel: number[] = [];\n",
    "      let levelSize = queue.length;\n",
    "  \n",
    "      for(let i = 0; i < levelSize; i++) {\n",
    "        let currentNode = queue.shift()!;\n",
    "        if (isReverse) {\n",
    "          currentLevel.unshift(currentNode.val);\n",
    "        } else {\n",
    "          currentLevel.push(currentNode.val);\n",
    "        }\n",
    "  \n",
    "        if (currentNode.left !== null) queue.push(currentNode.left);\n",
    "        if (currentNode.right !== null) queue.push(currentNode.right);\n",
    "      }\n",
    "  \n",
    "      isReverse = !isReverse;\n",
    "      result.push(currentLevel);\n",
    "    }\n",
    "  \n",
    "    return result;\n",
    "  }"
   ]
  },
  {
   "cell_type": "code",
   "execution_count": null,
   "metadata": {
    "vscode": {
     "languageId": "javascript"
    }
   },
   "outputs": [],
   "source": [
    "class TreeNode {\n",
    "    val: number; \n",
    "    left: TreeNode | null;\n",
    "    right: TreeNode | null;\n",
    "    constructor(val?: number, left?: TreeNode | null, right?: TreeNode | null) {\n",
    "      this.val = (val === undefined ? 0 : val);\n",
    "      this.left = (left === undefined ? null : left);\n",
    "      this.right = (right === undefined ? null : right);\n",
    "    }\n",
    "  }\n",
    "  \n",
    "  let nodeValues: number[] = [];\n",
    "  \n",
    "  function inOrder(root: TreeNode | null): void {\n",
    "    if (root === null) {\n",
    "      return;\n",
    "    }\n",
    "  \n",
    "    inOrder(root.left);\n",
    "    nodeValues.push(root.val);\n",
    "    inOrder(root.right);\n",
    "  }\n",
    "  \n",
    "  function getMinimumDifference(root: TreeNode | null): number {\n",
    "    nodeValues = [];\n",
    "    inOrder(root);\n",
    "    \n",
    "    let minDiff = Infinity;\n",
    "    for (let i = 1; i < nodeValues.length; i++) {\n",
    "        minDiff = Math.min(minDiff, nodeValues[i] - nodeValues[i - 1]);\n",
    "    }\n",
    "    \n",
    "    return minDiff;\n",
    "  }"
   ]
  },
  {
   "cell_type": "code",
   "execution_count": null,
   "metadata": {
    "vscode": {
     "languageId": "javascript"
    }
   },
   "outputs": [],
   "source": [
    "class TreeNode {\n",
    "  val: number; \n",
    "  left: TreeNode | null;\n",
    "  right: TreeNode | null;\n",
    "  constructor(val?: number, left?: TreeNode | null, right?: TreeNode | null) {\n",
    "    this.val = (val === undefined ? 0 : val);\n",
    "    this.left = (left === undefined ? null : left);\n",
    "    this.right = (right === undefined ? null : right);\n",
    "  }\n",
    "}\n",
    "\n",
    "let minDiff = Infinity;\n",
    "let prev: TreeNode | null = null;\n",
    "\n",
    "function getMinimumDifference(root: TreeNode | null): number {\n",
    "  inOrder(root);\n",
    "  return minDiff;\n",
    "}\n",
    "\n",
    "function inOrder(node: TreeNode | null): void {\n",
    "  if (node === null) return;\n",
    "\n",
    "  inOrder(node.left);\n",
    "\n",
    "  if (prev !== null) {\n",
    "    minDiff = Math.min(minDiff, node.val - prev.val);\n",
    "  }\n",
    "\n",
    "  prev = node;\n",
    "\n",
    "  inOrder(node.right);\n",
    "}"
   ]
  },
  {
   "cell_type": "code",
   "execution_count": null,
   "metadata": {
    "vscode": {
     "languageId": "javascript"
    }
   },
   "outputs": [],
   "source": [
    "class TreeNode {\n",
    "    val: number; \n",
    "    left: TreeNode | null;\n",
    "    right: TreeNode | null;\n",
    "    constructor(val?: number, left?: TreeNode | null, right?: TreeNode | null) {\n",
    "      this.val = (val === undefined ? 0 : val);\n",
    "      this.left = (left === undefined ? null : left);\n",
    "      this.right = (right === undefined ? null : right);\n",
    "    }\n",
    "  }\n",
    "  \n",
    "  function kthSmallest(root: TreeNode, k: number): number | null{\n",
    "    let nums: number[] = inOrder(root);\n",
    "    return (k <= nums.length) ? nums[k - 1] : null;\n",
    "  }\n",
    "  \n",
    "  function inOrder(node: TreeNode | null): number[] {\n",
    "    if (node === null) {\n",
    "      return [];\n",
    "    }\n",
    "    return [...inOrder(node.left), node.val, ...inOrder(node.right)];\n",
    "  }"
   ]
  },
  {
   "cell_type": "code",
   "execution_count": null,
   "metadata": {
    "vscode": {
     "languageId": "javascript"
    }
   },
   "outputs": [],
   "source": [
    "class TreeNode {\n",
    "    val: number;\n",
    "    left: TreeNode | null;\n",
    "    right: TreeNode | null;\n",
    "    constructor(val?: number, left?: TreeNode | null, right?: TreeNode | null) {\n",
    "      this.val = (val===undefined ? 0 : val)\n",
    "      this.left = (left===undefined ? null : left)\n",
    "      this.right = (right===undefined ? null : right)\n",
    "    }\n",
    "  }\n",
    "  \n",
    "  function isValidBST(root: TreeNode | null, low = -Infinity, high = Infinity): boolean {\n",
    "    if (!root) return true;\n",
    "    \n",
    "    if (root.val <= low || root.val >= high) {\n",
    "      return false;\n",
    "    }\n",
    "    \n",
    "    return isValidBST(root.right, root.val, high) && isValidBST(root.left, low, root.val);\n",
    "  }"
   ]
  },
  {
   "cell_type": "code",
   "execution_count": null,
   "metadata": {
    "vscode": {
     "languageId": "javascript"
    }
   },
   "outputs": [],
   "source": [
    "function numIslands(grid: string[][]): number {\n",
    "    let count = 0;\n",
    "\n",
    "    for(let i = 0; i < grid.length; i++) {\n",
    "        for(let j = 0; j < grid[0].length; j++) {\n",
    "            if(grid[i][j] === '1') {\n",
    "                DFS(grid, i, j);\n",
    "                count++;\n",
    "            }\n",
    "        }\n",
    "    }\n",
    "\n",
    "    return count;\n",
    "}\n",
    "\n",
    "function DFS(grid: string[][], i: number, j: number): void {\n",
    "    if(i < 0 || j < 0 || i >= grid.length || j >= grid[0].length || grid[i][j] !== '1') return;\n",
    "\n",
    "    grid[i][j] = '0';  // Mark as visited\n",
    "\n",
    "    DFS(grid, i + 1, j); // Down\n",
    "    DFS(grid, i - 1, j); // Up\n",
    "    DFS(grid, i, j + 1); // Right\n",
    "    DFS(grid, i, j - 1); // Left\n",
    "}"
   ]
  },
  {
   "cell_type": "code",
   "execution_count": null,
   "metadata": {
    "vscode": {
     "languageId": "javascript"
    }
   },
   "outputs": [],
   "source": [
    "function solve(board: string[][]): void {\n",
    "    if(board.length === 0) return;\n",
    "    \n",
    "    let rows = board.length;\n",
    "    let cols = board[0].length;\n",
    "  \n",
    "    const dfs = (i: number, j: number) => {\n",
    "      if (i < 0 || j < 0 || i >= rows || j >= cols || board[i][j] !== 'O') return;\n",
    "  \n",
    "      board[i][j] = 'D';  // D for denoting cell escapes capture\n",
    "  \n",
    "      dfs(i, j + 1);\n",
    "      dfs(i, j - 1);\n",
    "      dfs(i + 1, j);\n",
    "      dfs(i - 1, j);\n",
    "    };\n",
    "  \n",
    "    for (let i = 0; i < rows; i++) {\n",
    "      for (let j = 0; j < cols; j++) {\n",
    "        if (i === 0 || j === 0 || i === rows - 1 || j === cols - 1) {\n",
    "          dfs(i, j);\n",
    "        }\n",
    "      }\n",
    "    }\n",
    "  \n",
    "    for (let i = 0; i < rows; i++) {\n",
    "      for (let j = 0; j < cols; j++) {\n",
    "        if (board[i][j] === 'O') board[i][j] = 'X';\n",
    "        if (board[i][j] === 'D') board[i][j] = 'O';  // Revert D back to O\n",
    "      }\n",
    "    }\n",
    "  }"
   ]
  },
  {
   "cell_type": "code",
   "execution_count": null,
   "metadata": {
    "vscode": {
     "languageId": "javascript"
    }
   },
   "outputs": [],
   "source": [
    "class Node {\n",
    "    val: number;\n",
    "    neighbors: Node[];\n",
    "    constructor(val?: number, neighbors?: Node[]) {\n",
    "        this.val = (val===undefined ? 0 : val);\n",
    "        this.neighbors = (neighbors===undefined ? [] : neighbors);\n",
    "    }\n",
    "  }\n",
    "  \n",
    "  function cloneGraph(node: Node | null): Node | null {\n",
    "    if (!node) return null;\n",
    "  \n",
    "    const visited = new Map();\n",
    "  \n",
    "    const queue = [node];\n",
    "    visited.set(node, new Node(node.val));\n",
    "  \n",
    "    while (queue.length > 0) {\n",
    "        const currentNode = queue.shift();\n",
    "  \n",
    "        (currentNode?.neighbors || []).forEach(neighbor => {\n",
    "            if (!visited.has(neighbor)) {\n",
    "                visited.set(neighbor, new Node(neighbor.val));\n",
    "                queue.push(neighbor);\n",
    "            }\n",
    "  \n",
    "            visited.get(currentNode)?.neighbors.push(visited.get(neighbor));\n",
    "        });\n",
    "    }\n",
    "  \n",
    "    return visited.get(node);\n",
    "  }"
   ]
  },
  {
   "cell_type": "code",
   "execution_count": null,
   "metadata": {
    "vscode": {
     "languageId": "javascript"
    }
   },
   "outputs": [],
   "source": [
    "type Graph = {\n",
    "    [key: string]: { [key: string]: number }\n",
    "  };\n",
    "  \n",
    "  function calcEquation(equations: string[][], values: number[], queries: string[][]): number[] {\n",
    "    const graph: Graph = {};\n",
    "  \n",
    "    // Build the adjacency graph\n",
    "    for(let i = 0; i < equations.length; i++) {\n",
    "      const [a, b] = equations[i];\n",
    "      const val = values[i];\n",
    "  \n",
    "      if (!graph[a]) graph[a] = {};\n",
    "      if (!graph[b]) graph[b] = {};\n",
    "      graph[a][b] = val;\n",
    "      graph[b][a] = 1 / val;\n",
    "    }\n",
    "  \n",
    "    // BFS function to find the path and calculate the result\n",
    "    const bfs = (src: string, dest: string): number => {\n",
    "      const queue = [{ node: src, val: 1.0 }];\n",
    "      const seen = new Set([src]);\n",
    "  \n",
    "      while (queue.length) {\n",
    "        const { node, val } = queue.shift();\n",
    "        if (node === dest) {\n",
    "          return val;\n",
    "        }\n",
    "  \n",
    "        for (let neighbour in graph[node]) {\n",
    "          if (!seen.has(neighbour)) {\n",
    "            queue.push({ node: neighbour, val: val * graph[node][neighbour] });\n",
    "            seen.add(neighbour);\n",
    "          }\n",
    "        }\n",
    "      }\n",
    "  \n",
    "      return -1.0;\n",
    "    };\n",
    "  \n",
    "    // Evaluate each query using BFS\n",
    "    let results: number[] = [];\n",
    "    for (let [a, b] of queries) {\n",
    "      results.push(graph[a] && graph[b] ? bfs(a, b) : -1.0);\n",
    "    }\n",
    "  \n",
    "    return results;\n",
    "  }"
   ]
  },
  {
   "cell_type": "code",
   "execution_count": null,
   "metadata": {
    "vscode": {
     "languageId": "javascript"
    }
   },
   "outputs": [],
   "source": [
    "function canFinish(numCourses: number, prerequisites: number[][]): boolean {\n",
    "    let adjList: number[][] = Array.from({length: numCourses}, () => []);\n",
    "    let indegree: number[] = Array(numCourses).fill(0);\n",
    "  \n",
    "    for(let [course, prerequisite] of prerequisites) {\n",
    "        adjList[prerequisite].push(course);  \n",
    "        indegree[course]++;\n",
    "    }\n",
    "  \n",
    "    let queue: number[] = indegree.reduce((queue, degree, course) => {\n",
    "        if(degree === 0) queue.push(course);\n",
    "        return queue;\n",
    "    }, []);\n",
    "\n",
    "    while(queue.length) {\n",
    "        let course = queue.shift();\n",
    "        for(let nextCourse of adjList[course]) {\n",
    "            indegree[nextCourse]--;\n",
    "            if(indegree[nextCourse] === 0) queue.push(nextCourse);\n",
    "        }\n",
    "      \n",
    "        numCourses--;\n",
    "    }\n",
    "\n",
    "    return numCourses === 0;\n",
    "}"
   ]
  },
  {
   "cell_type": "code",
   "execution_count": null,
   "metadata": {
    "vscode": {
     "languageId": "javascript"
    }
   },
   "outputs": [],
   "source": [
    "function findOrder(numCourses: number, prerequisites: number[][]): number[] {\n",
    "    let adjList: number[][] = Array.from({length: numCourses}, () => []);\n",
    "    let indegree: number[] = Array(numCourses).fill(0);\n",
    "  \n",
    "    for(let [course, prerequisite] of prerequisites) {\n",
    "        adjList[prerequisite].push(course);\n",
    "        indegree[course]++;\n",
    "    }\n",
    "  \n",
    "    let queue: number[] = indegree.reduce((queue, degree, course) => {\n",
    "        if(degree === 0) queue.push(course);\n",
    "        return queue;\n",
    "    }, []);\n",
    "\n",
    "    let order: number[] = [];\n",
    "    while(queue.length) {\n",
    "        let course = queue.shift();\n",
    "        order.push(course);\n",
    "        for(let nextCourse of adjList[course]) {\n",
    "            indegree[nextCourse]--;\n",
    "            if(indegree[nextCourse] === 0) queue.push(nextCourse);\n",
    "        }\n",
    "      \n",
    "        numCourses--;\n",
    "    }\n",
    "\n",
    "    return numCourses === 0 ? order : [];\n",
    "}"
   ]
  },
  {
   "cell_type": "code",
   "execution_count": null,
   "metadata": {
    "vscode": {
     "languageId": "javascript"
    }
   },
   "outputs": [],
   "source": [
    "function snakesAndLadders(board: number[][]): number {\n",
    "    let n = board.length;\n",
    "    let vis = new Array(n * n + 1).fill(0);\n",
    "    let que: number[] = [1];\n",
    "    vis[1] = 1;\n",
    "    \n",
    "    while (que.length != 0) {\n",
    "        let x = que.shift();\n",
    "        if(x == n*n) return vis[x] - 1; \n",
    "        for (let i = 1; i <= 6; i++) {\n",
    "            let nx = x + i;\n",
    "            if (nx > n * n) break;  // outside the board\n",
    "            let rc = id2rc(nx, n);  // convert index to row and column\n",
    "            if (board[rc[0]][rc[1]] != -1) {  // if there is a snake or ladder\n",
    "                nx = board[rc[0]][rc[1]];\n",
    "            }\n",
    "            if (!vis[nx]) {\n",
    "                vis[nx] = vis[x] + 1;\n",
    "                que.push(nx);\n",
    "            }\n",
    "        }\n",
    "    }\n",
    "    return -1;\n",
    "};\n",
    "\n",
    "function id2rc(id: number, n: number): number[] {\n",
    "    let r = Math.floor((id - 1) / n), c = (id - 1) % n;\n",
    "    if (r % 2 === 1) {\n",
    "        c = n - 1 - c;\n",
    "    }\n",
    "    return [n - 1 - r, c];\n",
    "}"
   ]
  },
  {
   "cell_type": "code",
   "execution_count": null,
   "metadata": {
    "vscode": {
     "languageId": "javascript"
    }
   },
   "outputs": [],
   "source": []
  }
 ],
 "metadata": {
  "kernelspec": {
   "display_name": "Python 3",
   "language": "python",
   "name": "python3"
  },
  "language_info": {
   "name": "python",
   "version": "3.6.6"
  },
  "orig_nbformat": 4,
  "vscode": {
   "interpreter": {
    "hash": "949777d72b0d2535278d3dc13498b2535136f6dfe0678499012e853ee9abcab1"
   }
  }
 },
 "nbformat": 4,
 "nbformat_minor": 2
}

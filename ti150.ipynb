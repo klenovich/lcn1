{
 "cells": [
  {
   "cell_type": "code",
   "execution_count": null,
   "metadata": {
    "vscode": {
     "languageId": "javascript"
    }
   },
   "outputs": [],
   "source": [
    "function hIndex(citations: number[]): number {\n",
    "    citations.sort((a, b) => b - a);\n",
    "    let h = 0;\n",
    "    while (h < citations.length && h < citations[h]) {\n",
    "        h++;\n",
    "    }\n",
    "    return h;\n",
    "}"
   ]
  },
  {
   "cell_type": "code",
   "execution_count": null,
   "metadata": {
    "vscode": {
     "languageId": "javascript"
    }
   },
   "outputs": [],
   "source": [
    "class RandomizedSet {\n",
    "    private numMap: Map<number, number>;\n",
    "    private numList: number[];\n",
    "\n",
    "    constructor() {\n",
    "        this.numMap = new Map();\n",
    "        this.numList = [];\n",
    "    }\n",
    "\n",
    "    insert(val: number): boolean {\n",
    "        if (!this.numMap.has(val)) {\n",
    "            this.numMap.set(val, this.numList.length);\n",
    "            this.numList.push(val);\n",
    "            return true;\n",
    "        }\n",
    "        return false;\n",
    "    }\n",
    "\n",
    "    remove(val: number): boolean {\n",
    "        if (this.numMap.has(val)) {\n",
    "            let lastElement = this.numList[this.numList.length - 1];\n",
    "            let idx = this.numMap.get(val) as number;\n",
    "            // Move the last element to the index where we delete an element\n",
    "            this.numList[idx] = lastElement;\n",
    "            this.numMap.set(lastElement, idx);\n",
    "            // Remove the last element\n",
    "            this.numList.length--;\n",
    "            this.numMap.delete(val);\n",
    "            return true;\n",
    "        }\n",
    "        return false;\n",
    "    }\n",
    "\n",
    "    getRandom(): number {\n",
    "        let randomIndex = Math.floor(Math.random() * this.numList.length);\n",
    "        return this.numList[randomIndex];\n",
    "    }\n",
    "}"
   ]
  },
  {
   "cell_type": "code",
   "execution_count": null,
   "metadata": {
    "vscode": {
     "languageId": "javascript"
    }
   },
   "outputs": [],
   "source": [
    "function productExceptSelf(nums: number[]): number[] {\n",
    "    let length = nums.length;\n",
    "\n",
    "    let answer: number[] = [];\n",
    "    answer[0] = 1;\n",
    "\n",
    "    // Calculate left product for each element\n",
    "    for(let i = 1; i < length; i++) {\n",
    "        answer[i] = nums[i - 1] * answer[i - 1];\n",
    "    }\n",
    "\n",
    "    let R = 1;\n",
    "    // Calculate the right product for each element and multiply it with the corresponding left product\n",
    "    for(let i = length - 1; i >= 0; i--) {\n",
    "        answer[i] = answer[i] * R;\n",
    "        R *= nums[i];\n",
    "    }\n",
    "\n",
    "    return answer;\n",
    "}"
   ]
  },
  {
   "cell_type": "code",
   "execution_count": null,
   "metadata": {
    "vscode": {
     "languageId": "javascript"
    }
   },
   "outputs": [],
   "source": [
    "function canCompleteCircuit(gas: number[], cost: number[]): number {\n",
    "    let totalGas = 0, totalCost = 0, tank = 0, start = 0, minGas = 0;\n",
    "\n",
    "    for(let i = 0; i < gas.length; i++){\n",
    "        totalGas += gas[i];\n",
    "        totalCost += cost[i];\n",
    "        tank += gas[i] - cost[i];\n",
    "        // Move the starting point index forward\n",
    "        if(tank < minGas) {\n",
    "            minGas = tank;\n",
    "            start = i + 1;\n",
    "        }\n",
    "    }\n",
    "\n",
    "    // If total gas is less than total cost, return -1 indicating no solution exists\n",
    "    if(totalGas < totalCost) return -1;\n",
    "\n",
    "    return start % gas.length;\n",
    "}"
   ]
  },
  {
   "cell_type": "code",
   "execution_count": null,
   "metadata": {
    "vscode": {
     "languageId": "javascript"
    }
   },
   "outputs": [],
   "source": [
    "function candy(ratings: number[]): number {\n",
    "    const n = ratings.length;\n",
    "   const candies = new Array(n).fill(1);\n",
    "\n",
    "   for (let i = 1; i < n; i++) {\n",
    "       if (ratings[i] > ratings[i - 1]) {\n",
    "           candies[i] = candies[i - 1] + 1;\n",
    "       }\n",
    "   }\n",
    "\n",
    "   for (let i = n - 2; i >= 0; i--) {\n",
    "       if (ratings[i] > ratings[i + 1]) {\n",
    "           candies[i] = Math.max(candies[i], candies[i + 1] + 1);\n",
    "       }\n",
    "   }\n",
    "\n",
    "   return candies.reduce((a, b) => a + b, 0);\n",
    "};"
   ]
  },
  {
   "cell_type": "code",
   "execution_count": null,
   "metadata": {
    "vscode": {
     "languageId": "javascript"
    }
   },
   "outputs": [],
   "source": [
    "function trap(height: number[]): number {\n",
    "    if(height.length === 0) return 0;\n",
    "\n",
    "    const n = height.length;\n",
    "    let left = 0;\n",
    "    let right = n - 1;\n",
    "    let maxLeft = height[0];\n",
    "    let maxRight = height[n - 1];\n",
    "    let ans = 0;\n",
    "\n",
    "    while(left <= right) {\n",
    "        if(maxLeft <= maxRight) {\n",
    "            ans += Math.max(0, maxLeft - height[left]);\n",
    "            maxLeft = Math.max(maxLeft, height[left]);\n",
    "            left++;\n",
    "        } else {\n",
    "            ans += Math.max(0, maxRight - height[right]);\n",
    "            maxRight = Math.max(maxRight, height[right]);\n",
    "            right--;\n",
    "        }\n",
    "    }\n",
    "\n",
    "    return ans;\n",
    "};"
   ]
  },
  {
   "cell_type": "code",
   "execution_count": null,
   "metadata": {
    "vscode": {
     "languageId": "javascript"
    }
   },
   "outputs": [],
   "source": [
    "function romanToInt(s: string): number {\n",
    "    const mapping: { [key: string]: number } = {\n",
    "        'I': 1,\n",
    "        'V': 5,\n",
    "        'X': 10,\n",
    "        'L': 50,\n",
    "        'C': 100,\n",
    "        'D': 500,\n",
    "        'M': 1000\n",
    "    };\n",
    "\n",
    "    let result = 0;\n",
    "    for(let i = 0; i < s.length; i++) {\n",
    "        if(i < s.length - 1 && mapping[s[i]] < mapping[s[i+1]]) {\n",
    "            result -= mapping[s[i]];\n",
    "        } else {\n",
    "            result += mapping[s[i]];\n",
    "        }\n",
    "    }\n",
    "\n",
    "    return result;\n",
    "}"
   ]
  },
  {
   "cell_type": "code",
   "execution_count": null,
   "metadata": {
    "vscode": {
     "languageId": "javascript"
    }
   },
   "outputs": [],
   "source": [
    "function intToRoman(num: number): string {\n",
    "    const symbols: [string, number][] = [\n",
    "        [\"M\", 1000], [\"CM\", 900], [\"D\", 500], [\"CD\", 400],\n",
    "        [\"C\", 100], [\"XC\", 90], [\"L\", 50], [\"XL\", 40],\n",
    "        [\"X\", 10], [\"IX\", 9], [\"V\", 5], [\"IV\", 4],\n",
    "        [\"I\", 1]\n",
    "    ];\n",
    "\n",
    "    let roman = \"\";\n",
    "\n",
    "    for (let [symbol, value] of symbols) {\n",
    "        while (value <= num) {\n",
    "            num -= value;\n",
    "            roman += symbol;\n",
    "        }\n",
    "        if (num === 0) {\n",
    "            break;\n",
    "        }\n",
    "    }\n",
    "\n",
    "    return roman;\n",
    "}"
   ]
  },
  {
   "cell_type": "code",
   "execution_count": null,
   "metadata": {
    "vscode": {
     "languageId": "javascript"
    }
   },
   "outputs": [],
   "source": [
    "function lengthOfLastWord(s: string): number {\n",
    "    let segments = s.trim().split(\" \");\n",
    "    return segments[segments.length - 1].length;\n",
    "}"
   ]
  },
  {
   "cell_type": "code",
   "execution_count": null,
   "metadata": {
    "vscode": {
     "languageId": "javascript"
    }
   },
   "outputs": [],
   "source": [
    "function longestCommonPrefix(strs: string[]): string {\n",
    "    if(strs === null || strs.length === 0) return \"\";\n",
    "    \n",
    "    strs.sort();\n",
    "\n",
    "    const firstStr = strs[0];\n",
    "    const lastStr = strs[strs.length - 1];\n",
    "    \n",
    "    let i = 0;\n",
    "    while(i < firstStr.length && i < lastStr.length && firstStr[i] === lastStr[i]) {\n",
    "        i++;\n",
    "    }\n",
    "    \n",
    "    return firstStr.substring(0, i);\n",
    "}"
   ]
  },
  {
   "cell_type": "code",
   "execution_count": null,
   "metadata": {
    "vscode": {
     "languageId": "javascript"
    }
   },
   "outputs": [],
   "source": []
  }
 ],
 "metadata": {
  "kernelspec": {
   "display_name": "Python 3",
   "language": "python",
   "name": "python3"
  },
  "language_info": {
   "name": "python",
   "version": "3.6.6"
  },
  "orig_nbformat": 4,
  "vscode": {
   "interpreter": {
    "hash": "949777d72b0d2535278d3dc13498b2535136f6dfe0678499012e853ee9abcab1"
   }
  }
 },
 "nbformat": 4,
 "nbformat_minor": 2
}

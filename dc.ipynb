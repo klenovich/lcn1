{
 "cells": [
  {
   "attachments": {},
   "cell_type": "markdown",
   "metadata": {},
   "source": [
    "8.12"
   ]
  },
  {
   "cell_type": "code",
   "execution_count": null,
   "metadata": {},
   "outputs": [],
   "source": [
    "function validPartition(nums: number[]): boolean {\n",
    "    let counter: {[index: number] : number} = {};\n",
    "    for (let num of nums) {\n",
    "        if (!counter[num]) counter[num] = 0;\n",
    "        counter[num]++;\n",
    "\n",
    "        if ((counter[num - 2] > 0 && counter[num - 1] > 0) || counter[num] === 2) {\n",
    "            counter[num - 2]--;\n",
    "            counter[num - 1]--;\n",
    "            counter[num]--;\n",
    "        }\n",
    "    }\n",
    "\n",
    "    for (let count of Object.values(counter)) {\n",
    "        if (count > 0) return false;\n",
    "    }\n",
    "\n",
    "    return true;\n",
    "}"
   ]
  }
 ],
 "metadata": {
  "kernelspec": {
   "display_name": "Python 3",
   "language": "python",
   "name": "python3"
  },
  "language_info": {
   "name": "python",
   "version": "3.10.12"
  },
  "orig_nbformat": 4,
  "vscode": {
   "interpreter": {
    "hash": "7e1998ff7f8aa20ada591c520b972326324e5ea05489af9e422744c7c09f6dad"
   }
  }
 },
 "nbformat": 4,
 "nbformat_minor": 2
}

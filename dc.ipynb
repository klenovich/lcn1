{
 "cells": [
  {
   "attachments": {},
   "cell_type": "markdown",
   "metadata": {},
   "source": [
    "8.13"
   ]
  },
  {
   "cell_type": "code",
   "execution_count": null,
   "metadata": {},
   "outputs": [],
   "source": [
    "function validPartition(nums: number[]): boolean {\n",
    "    let counter: {[index: number] : number} = {};\n",
    "    for (let num of nums) {\n",
    "        if (!counter[num]) counter[num] = 0;\n",
    "        counter[num]++;\n",
    "\n",
    "        if ((counter[num - 2] > 0 && counter[num - 1] > 0) || counter[num] === 2) {\n",
    "            counter[num - 2]--;\n",
    "            counter[num - 1]--;\n",
    "            counter[num]--;\n",
    "        }\n",
    "    }\n",
    "\n",
    "    for (let count of Object.values(counter)) {\n",
    "        if (count > 0) return false;\n",
    "    }\n",
    "\n",
    "    return true;\n",
    "}"
   ]
  },
  {
   "attachments": {},
   "cell_type": "markdown",
   "metadata": {},
   "source": [
    "8.14"
   ]
  },
  {
   "cell_type": "code",
   "execution_count": null,
   "metadata": {},
   "outputs": [],
   "source": [
    "function findKthLargest(nums: number[], k: number): number {\n",
    "    let minHeap: number[] = []; // Use an array to simulate a Heap (Priority Queue)\n",
    "\n",
    "    // Build a min heap of size k\n",
    "    for(let i = 0; i < k; i++) {\n",
    "        minHeap.push(nums[i]);\n",
    "    }\n",
    "\n",
    "    // Heapify the array formed\n",
    "    minHeap = buildHeap(minHeap);\n",
    "\n",
    "    // For remaining items in the array, if an element is larger than the root of the heap\n",
    "    // replace the root with the new element and Heapify\n",
    "    for(let i = k; i < nums.length; i++) {\n",
    "        if(nums[i] > minHeap[0]) {\n",
    "            minHeap[0] = nums[i];\n",
    "            minHeap = heapify(minHeap, 0);\n",
    "        }\n",
    "    }\n",
    "\n",
    "    return minHeap[0]; // The root of the heap is the Kth largest element\n",
    "}\n",
    "\n",
    "function buildHeap(minHeap: number[]): number[] {\n",
    "    // Function to build a heap from an array\n",
    "    for(let i = Math.floor(minHeap.length / 2); i >= 0; i--) {\n",
    "        minHeap = heapify(minHeap, i);\n",
    "    }\n",
    "    return minHeap;\n",
    "}\n",
    "\n",
    "function heapify(minHeap: number[], i: number): number[] {\n",
    "    // Function to heapify a node\n",
    "    let smallest = i;\n",
    "    let left = 2 * i + 1;\n",
    "    let right = 2 * i + 2;\n",
    "\n",
    "    if(left < minHeap.length && minHeap[left] < minHeap[smallest]) {\n",
    "        smallest = left;\n",
    "    }\n",
    "\n",
    "    if(right < minHeap.length && minHeap[right] < minHeap[smallest]) {\n",
    "        smallest = right;\n",
    "    }\n",
    "\n",
    "    if(smallest !== i) {\n",
    "        let temp = minHeap[i];\n",
    "        minHeap[i] = minHeap[smallest];\n",
    "        minHeap[smallest] = temp;\n",
    "        minHeap = heapify(minHeap, smallest);\n",
    "    }\n",
    "\n",
    "    return minHeap;\n",
    "}"
   ]
  },
  {
   "attachments": {},
   "cell_type": "markdown",
   "metadata": {},
   "source": [
    "8.15"
   ]
  },
  {
   "cell_type": "code",
   "execution_count": null,
   "metadata": {},
   "outputs": [],
   "source": [
    "function maxSlidingWindow(nums: number[], k: number): number[] {\n",
    "    let n = nums.length;\n",
    "    if(n === 0) return [];\n",
    "    if(k === 1) return nums;\n",
    "    \n",
    "    let deque: number[] = []; // store indexes\n",
    "    let result: number[] = [];\n",
    "    \n",
    "    // Prep the deque for the first window\n",
    "    for(let i = 0; i < k; i++) {\n",
    "        while(deque.length > 0 && nums[i] >= nums[deque[deque.length - 1]]) {\n",
    "            deque.pop();\n",
    "        }\n",
    "        deque.push(i);\n",
    "    }\n",
    "    \n",
    "    result.push(nums[deque[0]]);\n",
    "    \n",
    "    // Start moving the window\n",
    "    for(let i = k; i < n; i++) {\n",
    "        \n",
    "        // Remove elements from the front of deque\n",
    "        // that are not part of the current window\n",
    "        while(deque.length > 0 && deque[0] < (i - k + 1)) {\n",
    "            deque.shift();\n",
    "        }\n",
    "        \n",
    "        // Remove elements from the back of the deque\n",
    "        // that are less than the current element\n",
    "        while(deque.length > 0 && nums[i] >= nums[deque[deque.length - 1]]) {\n",
    "            deque.pop();\n",
    "        }\n",
    "        \n",
    "        // Add the current element (index) to the back of the deque\n",
    "        deque.push(i);\n",
    "        \n",
    "        // The front of the deque is always the largest number in the window\n",
    "        result.push(nums[deque[0]]);\n",
    "    }\n",
    "    \n",
    "    return result;\n",
    "}"
   ]
  },
  {
   "attachments": {},
   "cell_type": "markdown",
   "metadata": {},
   "source": [
    "8.16"
   ]
  },
  {
   "cell_type": "code",
   "execution_count": null,
   "metadata": {},
   "outputs": [],
   "source": [
    "function updateMatrix(matrix: number[][]): number[][] {\n",
    "    let rows = matrix.length, cols = matrix[0].length;\n",
    "    let dist = Array.from({length: rows}, () => new Array(cols).fill(Number.MAX_SAFE_INTEGER));\n",
    "    let dir = [[-1, 0], [1, 0], [0, -1], [0, 1]];\n",
    "    let queue = [];\n",
    "\n",
    "    for(let i = 0; i < rows; i++) {\n",
    "        for(let j = 0; j < cols; j++) {\n",
    "            if(matrix[i][j] === 0) {\n",
    "                dist[i][j] = 0;\n",
    "                queue.push([i, j]);\n",
    "            }\n",
    "        }\n",
    "    }\n",
    "\n",
    "    while(queue.length !== 0) {\n",
    "        let [currentRow, currentCol] = queue.shift();\n",
    "        \n",
    "        for(let d = 0; d < 4; d++) {\n",
    "            let newRow = currentRow + dir[d][0];\n",
    "            let newCol = currentCol + dir[d][1];\n",
    "\n",
    "            if(newRow >= 0 && newRow < rows && newCol >= 0 && newCol < cols) {\n",
    "                if(dist[currentRow][currentCol] + 1 < dist[newRow][newCol]) {\n",
    "                    queue.push([newRow, newCol]);\n",
    "                    dist[newRow][newCol] = dist[currentRow][currentCol] + 1;\n",
    "                }\n",
    "            }\n",
    "        }\n",
    "    }\n",
    "    return dist;\n",
    "}"
   ]
  },
  {
   "attachments": {},
   "cell_type": "markdown",
   "metadata": {},
   "source": [
    "8.21"
   ]
  },
  {
   "cell_type": "code",
   "execution_count": null,
   "metadata": {},
   "outputs": [],
   "source": [
    "function repeatedSubstringPattern(s: string): boolean {\n",
    "    const n = s.length;\n",
    "\n",
    "    for(let i = Math.floor(n / 2); i >= 1; i--) {\n",
    "        if (n % i === 0) {\n",
    "            let subStr= s.slice(0, i);\n",
    "            let times = n / i;\n",
    "            let desiredString = subStr.repeat(times);\n",
    "            if(s === desiredString) return true;\n",
    "        }\n",
    "    }\n",
    "    return false;\n",
    "}"
   ]
  }
 ],
 "metadata": {
  "kernelspec": {
   "display_name": "Python 3",
   "language": "python",
   "name": "python3"
  },
  "language_info": {
   "name": "python",
   "version": "3.10.12"
  },
  "orig_nbformat": 4,
  "vscode": {
   "interpreter": {
    "hash": "7e1998ff7f8aa20ada591c520b972326324e5ea05489af9e422744c7c09f6dad"
   }
  }
 },
 "nbformat": 4,
 "nbformat_minor": 2
}
